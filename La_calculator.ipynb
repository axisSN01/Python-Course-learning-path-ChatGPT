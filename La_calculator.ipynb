{
  "nbformat": 4,
  "nbformat_minor": 0,
  "metadata": {
    "colab": {
      "provenance": [],
      "authorship_tag": "ABX9TyNarDsFTrxIhlM9RupHvorn",
      "include_colab_link": true
    },
    "kernelspec": {
      "name": "python3",
      "display_name": "Python 3"
    },
    "language_info": {
      "name": "python"
    }
  },
  "cells": [
    {
      "cell_type": "markdown",
      "metadata": {
        "id": "view-in-github",
        "colab_type": "text"
      },
      "source": [
        "<a href=\"https://colab.research.google.com/github/axisSN01/Python-learning-path-ChatGPT/blob/main/La_calculator.ipynb\" target=\"_parent\"><img src=\"https://colab.research.google.com/assets/colab-badge.svg\" alt=\"Open In Colab\"/></a>"
      ]
    },
    {
      "cell_type": "code",
      "execution_count": null,
      "metadata": {
        "id": "EfO2-OoSt5vm"
      },
      "outputs": [],
      "source": [
        "# imports \n",
        "\n",
        "import pdb\n",
        "\n",
        "\n",
        "# funciones de interfaz \n",
        "def interfaz():\n",
        "\n",
        "    not_close = True\n",
        "\n",
        "    while not_close:\n",
        "        print()\n",
        "        print(\"bienvenido a la calculator\")\n",
        "        print(\"elija una opcion: \")\n",
        "        print(\"opcion 1: sumar\")\n",
        "        print(\"opcion 2: multiplicar\")        \n",
        "        print(\"opcion 3: potencia\")\n",
        "        print(\"SALIR = 4\")\n",
        "        print()\n",
        "\n",
        "        choice = int(input())\n",
        "\n",
        "        #pdb.set_trace()      \n",
        "\n",
        "        if type(choice) != type(1):\n",
        "            continue\n",
        "\n",
        "        a = input(\"ingrese primer elemento \")\n",
        "    \n",
        "        b = int(input(\"ingrese segundo elemento \"))\n",
        "\n",
        "\n",
        "        if choice == 1:\n",
        "            resultado = sumar(a,b)\n",
        "\n",
        "\n",
        "        elif choice == 2:\n",
        "            resultado = multiplicar(a,b)\n",
        "\n",
        "\n",
        "        elif choice == 3:\n",
        "            resultado = potencia(a,b)\n",
        "        \n",
        "        elif choice == 4:\n",
        "            break\n",
        "\n",
        "        print(f\"####   su resultado es: {resultado}  #####\")\n",
        "\n",
        "\n",
        "\n",
        "# funciones de calculo\n",
        "\n",
        "def sumar(a,b):\n",
        "\n",
        "    d = eval(a)\n",
        "\n",
        "    c = d + b\n",
        "\n",
        "    return c\n",
        "\n",
        "def multiplicar(a,b): \n",
        "\n",
        "    c = a * b\n",
        "\n",
        "    return c\n",
        "\n",
        "def potencia(a,b):\n",
        "\n",
        "    c = a**b\n",
        "\n",
        "    return c\n"
      ]
    },
    {
      "cell_type": "code",
      "source": [
        "# Ejecutar main \n",
        "\n",
        "interfaz()"
      ],
      "metadata": {
        "id": "W4zqcQIBt_L-"
      },
      "execution_count": null,
      "outputs": []
    }
  ]
}