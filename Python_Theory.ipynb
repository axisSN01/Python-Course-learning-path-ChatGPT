{
  "nbformat": 4,
  "nbformat_minor": 0,
  "metadata": {
    "colab": {
      "provenance": [],
      "authorship_tag": "ABX9TyMfMo8Pb4erD9S0708/dH6z",
      "include_colab_link": true
    },
    "kernelspec": {
      "name": "python3",
      "display_name": "Python 3"
    },
    "language_info": {
      "name": "python"
    }
  },
  "cells": [
    {
      "cell_type": "markdown",
      "metadata": {
        "id": "view-in-github",
        "colab_type": "text"
      },
      "source": [
        "<a href=\"https://colab.research.google.com/github/axisSN01/Python-learning-path-ChatGPT/blob/main/Python_Theory.ipynb\" target=\"_parent\"><img src=\"https://colab.research.google.com/assets/colab-badge.svg\" alt=\"Open In Colab\"/></a>"
      ]
    },
    {
      "cell_type": "markdown",
      "source": [
        "# Theory \n",
        "---"
      ],
      "metadata": {
        "id": "8Ez74Bv5AA7h"
      }
    },
    {
      "cell_type": "markdown",
      "source": [
        "## 1st round"
      ],
      "metadata": {
        "id": "1o_svWk0AJrZ"
      }
    },
    {
      "cell_type": "markdown",
      "source": [
        "### what will we learn?\n",
        " + brief history of Python and Why's\n",
        " + More why's, what's \n",
        " + Talk about where we are\n",
        " + jump to hands-on"
      ],
      "metadata": {
        "id": "J0ZGIzDdCWdR"
      }
    },
    {
      "cell_type": "markdown",
      "source": [
        "<img src=\"https://raw.githubusercontent.com/axisSN01/Python-learning-path-ChatGPT/main/images/0.jpg\" width=\"400\" height=\"200\">\n"
      ],
      "metadata": {
        "id": "_cW8saM9ASlM"
      }
    },
    {
      "cell_type": "markdown",
      "source": [
        "### Breve historia de los lenguajes \n",
        "\n",
        "<img src=\"https://raw.githubusercontent.com/axisSN01/Python-learning-path-ChatGPT/main/images/1.svg\" width=\"100%\" height=\"100%\">"
      ],
      "metadata": {
        "id": "e9Nh_gi93bOr"
      }
    },
    {
      "cell_type": "markdown",
      "source": [
        "### Como medir tu habilidad como programador\n",
        "\n",
        "<img src=\"https://raw.githubusercontent.com/axisSN01/Python-learning-path-ChatGPT/main/images/5.svg\" width=\"100%\" height=\"100%\">"
      ],
      "metadata": {
        "id": "iDMRQ8epOlPG"
      }
    },
    {
      "cell_type": "markdown",
      "source": [
        "### Como avanzar en el tiempo\n",
        "\n",
        "<img src=\"https://raw.githubusercontent.com/axisSN01/Python-learning-path-ChatGPT/main/images/6.svg\" width=\"100%\" height=\"100%\">"
      ],
      "metadata": {
        "id": "pjj0-QmvOk_O"
      }
    },
    {
      "cell_type": "markdown",
      "source": [
        "### Caracteristicas de lenguajes\n",
        "\n",
        "<img src=\"https://raw.githubusercontent.com/axisSN01/Python-learning-path-ChatGPT/main/images/2.svg\" width='100%' height='%100'>"
      ],
      "metadata": {
        "id": "1_zuRAVX3io7"
      }
    },
    {
      "cell_type": "markdown",
      "source": [
        "### PORQUES?\n",
        "\n",
        "<img src=\"https://raw.githubusercontent.com/axisSN01/Python-learning-path-ChatGPT/main/images/3.svg\" width='100%' height='%100'>"
      ],
      "metadata": {
        "id": "hOQxdzu03kTJ"
      }
    },
    {
      "cell_type": "markdown",
      "source": [
        "### Pensamiento algoritmico, que es eso?\n",
        "\n",
        "<img src=\"https://raw.githubusercontent.com/axisSN01/Python-learning-path-ChatGPT/main/images/4.svg\" width='100%' height='%100'>"
      ],
      "metadata": {
        "id": "AyuUWaj43nwy"
      }
    },
    {
      "cell_type": "code",
      "source": [
        "import this"
      ],
      "metadata": {
        "id": "YCTRbd7QAGVt"
      },
      "execution_count": null,
      "outputs": []
    },
    {
      "cell_type": "markdown",
      "source": [
        "### Where do we are?\n",
        "\n",
        "Question | Cami | Caste | Mati | Fran | Cam | Juampi | Santi \n",
        "-|-|-|-|-|-|-|-|\n",
        "Did you use python before? how much? |`dadadwawddddddddddddddddddddddddddddddddd`<br>`ddddddddddddddddddddddddddddddddddddddddd`<br>`adaawdawdawdawdawdawdaw`|`dadadwawddddddddddddddddddddddddddddddddd`<br>`ddddddddddddddddddddddddddddddddddddddddd`<br>`adaawdawdawdawdawdawdaw`| `dadadwawddddddddddddddddddddddddddddddddd`<br>`ddddddddddddddddddddddddddddddddddddddddd`<br>`adaawdawdawdawdawdawdaw`|\n",
        "Which libraries did you know/use?  |`dadadwawddddddddddddddddddddddddddddddddd`<br>`ddddddddddddddddddddddddddddddddddddddddd`<br>`adaawdawdawdawdawdawdaw`|`dadadwawddddddddddddddddddddddddddddddddd`<br>`ddddddddddddddddddddddddddddddddddddddddd`<br>`adaawdawdawdawdawdawdaw`| `dadadwawddddddddddddddddddddddddddddddddd`<br>`ddddddddddddddddddddddddddddddddddddddddd`<br>`adaawdawdawdawdawdawdaw`|\n",
        "What other lenguages do you know? how much? |`dadadwawddddddddddddddddddddddddddddddddd`<br>`ddddddddddddddddddddddddddddddddddddddddd`<br>`adaawdawdawdawdawdawdaw`|`dadadwawddddddddddddddddddddddddddddddddd`<br>`ddddddddddddddddddddddddddddddddddddddddd`<br>`adaawdawdawdawdawdawdaw`| `dadadwawddddddddddddddddddddddddddddddddd`<br>`ddddddddddddddddddddddddddddddddddddddddd`<br>`adaawdawdawdawdawdawdaw`|\n",
        "Do you know the difference between a Class and an Instance?|`dadadwawddddddddddddddddddddddddddddddddd`<br>`ddddddddddddddddddddddddddddddddddddddddd`<br>`adaawdawdawdawdawdawdaw`|`dadadwawddddddddddddddddddddddddddddddddd`<br>`ddddddddddddddddddddddddddddddddddddddddd`<br>`adaawdawdawdawdawdawdaw`| `dadadwawddddddddddddddddddddddddddddddddd`<br>`ddddddddddddddddddddddddddddddddddddddddd`<br>`adaawdawdawdawdawdawdaw`|\n",
        "Do you know what is a recursive function?|`dadadwawddddddddddddddddddddddddddddddddd`<br>`ddddddddddddddddddddddddddddddddddddddddd`<br>`adaawdawdawdawdawdawdaw`|`dadadwawddddddddddddddddddddddddddddddddd`<br>`ddddddddddddddddddddddddddddddddddddddddd`<br>`adaawdawdawdawdawdawdaw`| `dadadwawddddddddddddddddddddddddddddddddd`<br>`ddddddddddddddddddddddddddddddddddddddddd`<br>`adaawdawdawdawdawdawdaw`|\n",
        "what would you like to achieve o develop in the short time with Python?|`dadadwawddddddddddddddddddddddddddddddddd`<br>`ddddddddddddddddddddddddddddddddddddddddd`<br>`adaawdawdawdawdawdawdaw`|`dadadwawddddddddddddddddddddddddddddddddd`<br>`ddddddddddddddddddddddddddddddddddddddddd`<br>`adaawdawdawdawdawdawdaw`| `dadadwawddddddddddddddddddddddddddddddddd`<br>`ddddddddddddddddddddddddddddddddddddddddd`<br>`adaawdawdawdawdawdawdaw`|\n",
        "\n",
        "\n"
      ],
      "metadata": {
        "id": "en1qdseI5zLm"
      }
    },
    {
      "cell_type": "markdown",
      "source": [
        "### Step 1 reference: \n",
        "### - Documentation: https://docs.python.org/3/\n",
        "### - Your right hand: https://chat.openai.com/chat\n",
        "### - Nice blog: https://realpython.com/\n",
        "### - Course Repo: https://github.com/axisSN01/Python-learning-path-ChatGPT\n",
        "--- \n",
        "\n",
        "\n",
        "\n",
        "\n",
        "\n"
      ],
      "metadata": {
        "id": "5-kx50DY39w8"
      }
    },
    {
      "cell_type": "markdown",
      "source": [
        "### Step 1 trainings: \n",
        "### - THE course: https://www.freecodecamp.org/learn/scientific-computing-with-python/#python-for-everybody \n",
        "### - THE book: http://do1.dr-chuck.com/pythonlearn/ES_es/pythonlearn.pdf\n",
        "### - THE video Course: https://www.youtube.com/watch?v=8DvywoWv6fI\n",
        "\n",
        "### - THE warning: https://blog.segu-info.com.ar/2021/02/dependency-confusion-ataque-que-afecta.html?m=0 S\n",
        "### - Course Repo: https://github.com/axisSN01/Python-learning-path-ChatGPT\n",
        "--- \n",
        "\n"
      ],
      "metadata": {
        "id": "u4LSfArhKze1"
      }
    },
    {
      "cell_type": "markdown",
      "source": [
        "### Step 2 reference: \n",
        "### - Jupyter Notebook  https://docs.jupyter.org/en/latest/\n",
        "### - pandas module https://pandas.pydata.org/docs/\n",
        "### - Google colab snippets https://colab.research.google.com/\n",
        "---"
      ],
      "metadata": {
        "id": "d4vatKBDCAqU"
      }
    },
    {
      "cell_type": "markdown",
      "source": [
        "## 2nd round"
      ],
      "metadata": {
        "id": "iUy7gcVJBGjX"
      }
    },
    {
      "cell_type": "markdown",
      "source": [
        "### solve doubts, and depper analysis\n",
        " + Ok, any doubts?\n",
        " + Be carefull with libraries\n",
        " + the background tools: Git, jupyter, prompt\n",
        " + The data analysis tools: Numpy, pandas, requests\n",
        " + jump to hands-on"
      ],
      "metadata": {
        "id": "zrd6tR-pCh8z"
      }
    },
    {
      "cell_type": "code",
      "source": [],
      "metadata": {
        "id": "7bLbRRWJCnBx"
      },
      "execution_count": null,
      "outputs": []
    }
  ]
}