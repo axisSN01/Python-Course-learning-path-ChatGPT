{
  "nbformat": 4,
  "nbformat_minor": 0,
  "metadata": {
    "colab": {
      "provenance": [],
      "authorship_tag": "ABX9TyNUvLjKErtwTU0iXMnvcCHa",
      "include_colab_link": true
    },
    "kernelspec": {
      "name": "python3",
      "display_name": "Python 3"
    },
    "language_info": {
      "name": "python"
    }
  },
  "cells": [
    {
      "cell_type": "markdown",
      "metadata": {
        "id": "view-in-github",
        "colab_type": "text"
      },
      "source": [
        "<a href=\"https://colab.research.google.com/github/axisSN01/Python-learning-path-ChatGPT/blob/main/Python_Theory.ipynb\" target=\"_parent\"><img src=\"https://colab.research.google.com/assets/colab-badge.svg\" alt=\"Open In Colab\"/></a>"
      ]
    },
    {
      "cell_type": "markdown",
      "source": [
        "# Theory \n",
        "---"
      ],
      "metadata": {
        "id": "8Ez74Bv5AA7h"
      }
    },
    {
      "cell_type": "markdown",
      "source": [
        "## 1st round"
      ],
      "metadata": {
        "id": "1o_svWk0AJrZ"
      }
    },
    {
      "cell_type": "markdown",
      "source": [
        "### what will we learn?\n",
        " + brief history of Python and Why's\n",
        " + More why's, what's \n",
        " + Talk about \"where we are\"\n",
        " + jump to hands-on"
      ],
      "metadata": {
        "id": "J0ZGIzDdCWdR"
      }
    },
    {
      "cell_type": "markdown",
      "source": [
        "<img src=\"https://raw.githubusercontent.com/axisSN01/Python-learning-path-ChatGPT/main/images/0.jpg\" width=\"400\" height=\"200\">\n"
      ],
      "metadata": {
        "id": "_cW8saM9ASlM"
      }
    },
    {
      "cell_type": "markdown",
      "source": [
        "### Breve historia de los lenguajes \n",
        "\n",
        "<img src=\"https://raw.githubusercontent.com/axisSN01/Python-learning-path-ChatGPT/main/images/1.svg\" width=\"100%\" height=\"100%\">"
      ],
      "metadata": {
        "id": "e9Nh_gi93bOr"
      }
    },
    {
      "cell_type": "markdown",
      "source": [
        "### Como medir tu habilidad como programador\n",
        "\n",
        "<img src=\"https://raw.githubusercontent.com/axisSN01/Python-learning-path-ChatGPT/main/images/5.svg\" width=\"100%\" height=\"100%\">"
      ],
      "metadata": {
        "id": "iDMRQ8epOlPG"
      }
    },
    {
      "cell_type": "markdown",
      "source": [
        "### Como avanzar en el tiempo\n",
        "\n",
        "<img src=\"https://raw.githubusercontent.com/axisSN01/Python-learning-path-ChatGPT/main/images/6.svg\" width=\"100%\" height=\"100%\">"
      ],
      "metadata": {
        "id": "pjj0-QmvOk_O"
      }
    },
    {
      "cell_type": "markdown",
      "source": [
        "### Caracteristicas de lenguajes\n",
        "\n",
        "<img src=\"https://raw.githubusercontent.com/axisSN01/Python-learning-path-ChatGPT/main/images/2.svg\" width='100%' height='%100'>"
      ],
      "metadata": {
        "id": "1_zuRAVX3io7"
      }
    },
    {
      "cell_type": "markdown",
      "source": [
        "### PORQUES?\n",
        "\n",
        "<img src=\"https://raw.githubusercontent.com/axisSN01/Python-learning-path-ChatGPT/main/images/3.svg\" width='100%' height='%100'>"
      ],
      "metadata": {
        "id": "hOQxdzu03kTJ"
      }
    },
    {
      "cell_type": "markdown",
      "source": [
        "### Pensamiento algoritmico, que es eso?\n",
        "\n",
        "<img src=\"https://raw.githubusercontent.com/axisSN01/Python-learning-path-ChatGPT/main/images/4.svg\" width='100%' height='%100'>"
      ],
      "metadata": {
        "id": "AyuUWaj43nwy"
      }
    },
    {
      "cell_type": "code",
      "source": [
        "import this"
      ],
      "metadata": {
        "id": "YCTRbd7QAGVt"
      },
      "execution_count": null,
      "outputs": []
    },
    {
      "cell_type": "markdown",
      "source": [
        "### Where do we are?\n",
        "\n",
        "Question | Cami | Caste | Mati | Fran | Cam | Juampi | Santi \n",
        "-|-|-|-|-|-|-|-|\n",
        "Did you use python before? how much? |`dadadwawddddddddddddddddddddddddddddddddd`<br>`ddddddddddddddddddddddddddddddddddddddddd`<br>`adaawdawdawdawdawdawdaw`|`dadadwawddddddddddddddddddddddddddddddddd`<br>`ddddddddddddddddddddddddddddddddddddddddd`<br>`adaawdawdawdawdawdawdaw`| `dadadwawddddddddddddddddddddddddddddddddd`<br>`ddddddddddddddddddddddddddddddddddddddddd`<br>`adaawdawdawdawdawdawdaw`|\n",
        "Which libraries did you know/use?  |`dadadwawddddddddddddddddddddddddddddddddd`<br>`ddddddddddddddddddddddddddddddddddddddddd`<br>`adaawdawdawdawdawdawdaw`|`dadadwawddddddddddddddddddddddddddddddddd`<br>`ddddddddddddddddddddddddddddddddddddddddd`<br>`adaawdawdawdawdawdawdaw`| `dadadwawddddddddddddddddddddddddddddddddd`<br>`ddddddddddddddddddddddddddddddddddddddddd`<br>`adaawdawdawdawdawdawdaw`|\n",
        "What other lenguages do you know? how much? |`dadadwawddddddddddddddddddddddddddddddddd`<br>`ddddddddddddddddddddddddddddddddddddddddd`<br>`adaawdawdawdawdawdawdaw`|`dadadwawddddddddddddddddddddddddddddddddd`<br>`ddddddddddddddddddddddddddddddddddddddddd`<br>`adaawdawdawdawdawdawdaw`| `dadadwawddddddddddddddddddddddddddddddddd`<br>`ddddddddddddddddddddddddddddddddddddddddd`<br>`adaawdawdawdawdawdawdaw`|\n",
        "Do you know the difference between a Class and an Instance?|`dadadwawddddddddddddddddddddddddddddddddd`<br>`ddddddddddddddddddddddddddddddddddddddddd`<br>`adaawdawdawdawdawdawdaw`|`dadadwawddddddddddddddddddddddddddddddddd`<br>`ddddddddddddddddddddddddddddddddddddddddd`<br>`adaawdawdawdawdawdawdaw`| `dadadwawddddddddddddddddddddddddddddddddd`<br>`ddddddddddddddddddddddddddddddddddddddddd`<br>`adaawdawdawdawdawdawdaw`|\n",
        "Do you know what is a recursive function?|`dadadwawddddddddddddddddddddddddddddddddd`<br>`ddddddddddddddddddddddddddddddddddddddddd`<br>`adaawdawdawdawdawdawdaw`|`dadadwawddddddddddddddddddddddddddddddddd`<br>`ddddddddddddddddddddddddddddddddddddddddd`<br>`adaawdawdawdawdawdawdaw`| `dadadwawddddddddddddddddddddddddddddddddd`<br>`ddddddddddddddddddddddddddddddddddddddddd`<br>`adaawdawdawdawdawdawdaw`|\n",
        "what would you like to achieve o develop in the short time with Python?|`dadadwawddddddddddddddddddddddddddddddddd`<br>`ddddddddddddddddddddddddddddddddddddddddd`<br>`adaawdawdawdawdawdawdaw`|`dadadwawddddddddddddddddddddddddddddddddd`<br>`ddddddddddddddddddddddddddddddddddddddddd`<br>`adaawdawdawdawdawdawdaw`| `dadadwawddddddddddddddddddddddddddddddddd`<br>`ddddddddddddddddddddddddddddddddddddddddd`<br>`adaawdawdawdawdawdawdaw`|\n",
        "\n",
        "\n"
      ],
      "metadata": {
        "id": "en1qdseI5zLm"
      }
    },
    {
      "cell_type": "markdown",
      "source": [
        "### Step 1 reference: \n",
        "### - Documentation: https://docs.python.org/3/\n",
        "### - Your right hand: https://chat.openai.com/chat\n",
        "### - Nice blog: https://realpython.com/\n",
        "### - Course Repo: https://github.com/axisSN01/Python-learning-path-ChatGPT\n",
        "--- \n",
        "\n",
        "\n",
        "\n",
        "\n",
        "\n"
      ],
      "metadata": {
        "id": "5-kx50DY39w8"
      }
    },
    {
      "cell_type": "markdown",
      "source": [
        "### Step 1 trainings: \n",
        "### - THE course: https://www.freecodecamp.org/learn/scientific-computing-with-python/#python-for-everybody \n",
        "### - THE book: http://do1.dr-chuck.com/pythonlearn/ES_es/pythonlearn.pdf\n",
        "### - THE video Course: https://www.youtube.com/watch?v=8DvywoWv6fI\n",
        "\n",
        "### - THE warning: https://blog.segu-info.com.ar/2021/02/dependency-confusion-ataque-que-afecta.html?m=0 S\n",
        "### - Course Repo: https://github.com/axisSN01/Python-learning-path-ChatGPT\n",
        "--- \n",
        "\n"
      ],
      "metadata": {
        "id": "u4LSfArhKze1"
      }
    },
    {
      "cell_type": "markdown",
      "source": [
        "## 2nd round"
      ],
      "metadata": {
        "id": "iUy7gcVJBGjX"
      }
    },
    {
      "cell_type": "markdown",
      "source": [
        "### solve doubts, and depper analysis\n",
        " + Ok, any doubts?\n",
        " + Be carefull with libraries\n",
        " + the background tools: Git, jupyter, prompt\n",
        " + The data analysis tools: Numpy, pandas, requests\n",
        " + jump to hands-on"
      ],
      "metadata": {
        "id": "zrd6tR-pCh8z"
      }
    },
    {
      "cell_type": "markdown",
      "source": [
        "### Como maneja la memoria\n",
        "\n",
        "<img src=\"https://raw.githubusercontent.com/axisSN01/Python-learning-path-ChatGPT/main/images/7.svg.png\" width='100%' height='%100'>"
      ],
      "metadata": {
        "id": "5gKJYlM4u5D1"
      }
    },
    {
      "cell_type": "markdown",
      "source": [
        "https://pythontutor.com/python-debugger.html#mode=edit"
      ],
      "metadata": {
        "id": "rg7t5KLNvANV"
      }
    },
    {
      "cell_type": "markdown",
      "source": [
        "## 2nd round"
      ],
      "metadata": {
        "id": "cCOCiiE9tx8f"
      }
    },
    {
      "cell_type": "markdown",
      "source": [
        "+ Questions, doubts of 1st round?\n",
        "+ Ice breakers: Some writings on the fly\n",
        "+ Follow me Bynder\n",
        "+ Before write, first read."
      ],
      "metadata": {
        "id": "bSsqnwYUuite"
      }
    },
    {
      "cell_type": "markdown",
      "source": [
        "### First read then write"
      ],
      "metadata": {
        "id": "er7ZAGIyt9xU"
      }
    },
    {
      "cell_type": "markdown",
      "source": [
        "### GLOSARY: \n",
        "#### Its needed learn the correct words and the correct meaning of each of them. "
      ],
      "metadata": {
        "id": "XTeo4MFCuDS8"
      }
    },
    {
      "cell_type": "markdown",
      "source": [
        "<img src=\"https://raw.githubusercontent.com/axisSN01/Python-learning-path-ChatGPT/main/images/8.svg\" width='100%' height='%100'>"
      ],
      "metadata": {
        "id": "E0EJ1ttqyEzR"
      }
    },
    {
      "cell_type": "markdown",
      "source": [
        "<img src=\"https://raw.githubusercontent.com/axisSN01/Python-learning-path-ChatGPT/main/images/9.svg\" width='100%' height='%100'>"
      ],
      "metadata": {
        "id": "uH88ysTD2Yy9"
      }
    },
    {
      "cell_type": "markdown",
      "source": [
        "<img src=\"https://raw.githubusercontent.com/axisSN01/Python-learning-path-ChatGPT/main/images/10.svg\" width='100%' height='%100'>"
      ],
      "metadata": {
        "id": "ypW-GuUA2azF"
      }
    },
    {
      "cell_type": "markdown",
      "source": [
        "<img src=\"https://raw.githubusercontent.com/axisSN01/Python-learning-path-ChatGPT/main/images/11.svg\" width='100%' height='%100'>"
      ],
      "metadata": {
        "id": "NUU0Jip22c3v"
      }
    },
    {
      "cell_type": "markdown",
      "source": [
        "### Follow me Bynder: Wirtes on the fly\n",
        "[![Binder](https://mybinder.org/badge_logo.svg)](https://mybinder.org/v2/gh/axisSN01/Python-learning-path-ChatGPT/HEAD)"
      ],
      "metadata": {
        "id": "v882l6cXuct4"
      }
    },
    {
      "cell_type": "markdown",
      "source": [
        "### Step 2 reference: \n",
        "### - Jupyter Notebook  https://docs.jupyter.org/en/latest/\n",
        "### - pandas module https://pandas.pydata.org/docs/\n",
        "### - Google colab snippets https://colab.research.google.com/\n",
        "---"
      ],
      "metadata": {
        "id": "d4vatKBDCAqU"
      }
    },
    {
      "cell_type": "markdown",
      "source": [
        "## 3rd Round\n",
        "\n",
        "+ Questions, doubts of 1st and 2nd round?\n",
        "+ Ice breakers: Some writings on the fly: Function,  built- ins\n",
        "+ Debuging tools: pdb, https://memlayout.com/, https://pythontutor.com/\n",
        "+ Reading standard_format_script.py\n",
        "---"
      ],
      "metadata": {
        "id": "gBvcwoSJFHc1"
      }
    },
    {
      "cell_type": "markdown",
      "source": [
        "## 4th round\n",
        "+ Questions, doubts of 1 ,2, 3 round?\n",
        "+ Continue analyzing  standard_format_script.py\n",
        "+ Lets build something: [La_calculator.ipynb](https://github.com/axisSN01/Python-learning-path-ChatGPT/blob/main/La_calculator.ipynb)\n",
        "    + HOMEWORK:\n",
        "        + Avoid zero division\n",
        "        + Print date and time of the result\n",
        "        + Send an email with the results\n",
        "\n",
        "--- \n"
      ],
      "metadata": {
        "id": "gZiQcjg-FvlV"
      }
    },
    {
      "cell_type": "markdown",
      "source": [
        "## 5th round\n",
        "+ Questions, doubts?\n",
        "+ Homework review\n",
        "+ HOMEWORK review [Homework_1_La_calculator.ipynb](https://github.com/axisSN01/Python-learning-path-ChatGPT/blob/main/Homework_1_La_calculator.ipynb)\n",
        "\n",
        "+ Replication management: introducing Github\n",
        "+ Data processing: Introducing pandas for EDA & ETL"
      ],
      "metadata": {
        "id": "NJSdFoGQGZJl"
      }
    },
    {
      "cell_type": "markdown",
      "source": [
        "### Replication management: there are few types, the most common are unidirectional, bidirectional, fully manual (GIT)"
      ],
      "metadata": {
        "id": "wGGKXfh-HOy-"
      }
    },
    {
      "cell_type": "markdown",
      "source": [
        "<img src=\"https://raw.githubusercontent.com/axisSN01/Python-learning-path-ChatGPT/main/images/12.svg\" width='100%' height='%100'>"
      ],
      "metadata": {
        "id": "zQMXkHO0HIJM"
      }
    },
    {
      "cell_type": "markdown",
      "source": [
        "<img src=\"https://raw.githubusercontent.com/axisSN01/Python-learning-path-ChatGPT/main/images/13.svg\" width='100%' height='%100'>"
      ],
      "metadata": {
        "id": "1vh461SCHar0"
      }
    },
    {
      "cell_type": "markdown",
      "source": [
        "<img src=\"https://raw.githubusercontent.com/axisSN01/Python-learning-path-ChatGPT/main/images/14.svg\" width='100%' height='%100'>"
      ],
      "metadata": {
        "id": "n4R0jr3cHew0"
      }
    },
    {
      "cell_type": "markdown",
      "source": [
        "### GIT notes:\n",
        "+ Is easy to **BEGIN** by really really dificult to **MASTER**\n",
        "+ life jacket: https://ohshitgit.com/\n",
        "+ Reference: https://git-scm.com/docs\n",
        "\n"
      ],
      "metadata": {
        "id": "XiBS_aWWHj8d"
      }
    },
    {
      "cell_type": "markdown",
      "source": [
        "### PANDAS: \n",
        "It is the main Python library for all the stuff related with DATA. If we compare with Power platforms, Its easy and straigh fordware achive the following things: \n",
        "\n",
        "PowerPlaform|Python + Pandas   \n",
        "-|-|\n",
        "excel tables| Dataframes\n",
        "excel macros| Python loops + dataframes\n",
        "powerbi charts | Pandas + Plotly\n",
        "DAX | Python loops\n",
        "PowerQuery | Pandas\n",
        "Automate | Python requests\n",
        "Powerapps | Tkinter, PyQt\n",
        "\n",
        "#### Reference : https://pandas.pydata.org/"
      ],
      "metadata": {
        "id": "tk1xrH0nJsVs"
      }
    },
    {
      "cell_type": "markdown",
      "source": [
        "## 6th round\n",
        "+ Questions, doubts?\n",
        "+ GitHub in a SHOT\n",
        "+ GUI for Python scripts: \n",
        "    + Streamlit webapp \n",
        "    + Tkinter desktop app\n",
        "\n",
        "+ Data processing: Introducing pandas for EDA & ETL"
      ],
      "metadata": {
        "id": "ZehDOjv_6v5k"
      }
    },
    {
      "cell_type": "markdown",
      "source": [
        "<img src=\"https://raw.githubusercontent.com/axisSN01/Python-learning-path-ChatGPT/main/images/15.svg\" width='100%' height='%100'>"
      ],
      "metadata": {
        "id": "r7ETG1Uw7KtJ"
      }
    },
    {
      "cell_type": "markdown",
      "source": [
        "## 7th round - THE LAST ONE\n",
        "+ Questions, doubts?\n",
        "\n",
        "+ Data processing: Introducing pandas for EDA & ETL\n",
        "\n",
        "+ Self Assesment test with chatGPT:\n",
        "\n"
      ],
      "metadata": {
        "id": "Ie0Suv3iguzv"
      }
    },
    {
      "cell_type": "markdown",
      "source": [
        "### Pandas vs Powerquery and DAX\n",
        "\n",
        "+ Lets go to chatGPT page\n",
        "\n",
        "\n",
        "### Reference:\n",
        "+ https://pandas.pydata.org/docs/getting_started/index.html\n",
        "+ https://pandas.pydata.org/docs/getting_started/comparison/comparison_with_sql.html\n",
        "\n",
        "### Python in PowerBi:\n",
        "\n",
        "+ Not able to create Measures\n",
        "+ Rows limits for scripts\n",
        "+ Its allowed to call Python scripts inside a Powerquery\n",
        "+ Its allowed to call Python Scripts as a data source\n",
        "+ Its allowed to use Charts generated with Python and Matplotlib, boke, seaborn or Plotly (not 3D interactive)\n",
        "\n",
        "\n",
        "\n",
        "\n"
      ],
      "metadata": {
        "id": "SojAXOqbiNQA"
      }
    },
    {
      "cell_type": "markdown",
      "source": [
        "### self test \n",
        "\n",
        "### **prompt**\n",
        "\n",
        "---\n",
        "\n",
        "*I want you to act as a professional Ssr Python coach . So, ask me multiple choice question simulating datacamp test, related to Python and Data Analytics, then wait for my answer and after that give me your feedback about my anwer, after that you should give me another question, and so on.  After each try, give me the ratio correct answer/ total answers*\n",
        "\n",
        "---"
      ],
      "metadata": {
        "id": "bqzr2gr_iHzj"
      }
    },
    {
      "cell_type": "code",
      "source": [
        "import pandas as pd\n"
      ],
      "metadata": {
        "id": "T7JslJTwxBNq"
      },
      "execution_count": 1,
      "outputs": []
    },
    {
      "cell_type": "code",
      "source": [
        "df = pd.DataFrame({\"columna1\":[1,2,3,4,5,6], \"columna2\":['a','b','c','a','b','c']})"
      ],
      "metadata": {
        "id": "RGbf36i4xpV5"
      },
      "execution_count": 2,
      "outputs": []
    },
    {
      "cell_type": "code",
      "source": [
        "df"
      ],
      "metadata": {
        "id": "_vxsywwUxunR",
        "outputId": "3cc64b02-c56f-4780-e0f0-dbd631251d42",
        "colab": {
          "base_uri": "https://localhost:8080/",
          "height": 237
        }
      },
      "execution_count": 3,
      "outputs": [
        {
          "output_type": "execute_result",
          "data": {
            "text/plain": [
              "   columna1 columna2\n",
              "0         1        a\n",
              "1         2        b\n",
              "2         3        c\n",
              "3         4        a\n",
              "4         5        b\n",
              "5         6        c"
            ],
            "text/html": [
              "\n",
              "  <div id=\"df-a298bf80-cddb-46bd-901c-173e31727fbc\">\n",
              "    <div class=\"colab-df-container\">\n",
              "      <div>\n",
              "<style scoped>\n",
              "    .dataframe tbody tr th:only-of-type {\n",
              "        vertical-align: middle;\n",
              "    }\n",
              "\n",
              "    .dataframe tbody tr th {\n",
              "        vertical-align: top;\n",
              "    }\n",
              "\n",
              "    .dataframe thead th {\n",
              "        text-align: right;\n",
              "    }\n",
              "</style>\n",
              "<table border=\"1\" class=\"dataframe\">\n",
              "  <thead>\n",
              "    <tr style=\"text-align: right;\">\n",
              "      <th></th>\n",
              "      <th>columna1</th>\n",
              "      <th>columna2</th>\n",
              "    </tr>\n",
              "  </thead>\n",
              "  <tbody>\n",
              "    <tr>\n",
              "      <th>0</th>\n",
              "      <td>1</td>\n",
              "      <td>a</td>\n",
              "    </tr>\n",
              "    <tr>\n",
              "      <th>1</th>\n",
              "      <td>2</td>\n",
              "      <td>b</td>\n",
              "    </tr>\n",
              "    <tr>\n",
              "      <th>2</th>\n",
              "      <td>3</td>\n",
              "      <td>c</td>\n",
              "    </tr>\n",
              "    <tr>\n",
              "      <th>3</th>\n",
              "      <td>4</td>\n",
              "      <td>a</td>\n",
              "    </tr>\n",
              "    <tr>\n",
              "      <th>4</th>\n",
              "      <td>5</td>\n",
              "      <td>b</td>\n",
              "    </tr>\n",
              "    <tr>\n",
              "      <th>5</th>\n",
              "      <td>6</td>\n",
              "      <td>c</td>\n",
              "    </tr>\n",
              "  </tbody>\n",
              "</table>\n",
              "</div>\n",
              "      <button class=\"colab-df-convert\" onclick=\"convertToInteractive('df-a298bf80-cddb-46bd-901c-173e31727fbc')\"\n",
              "              title=\"Convert this dataframe to an interactive table.\"\n",
              "              style=\"display:none;\">\n",
              "        \n",
              "  <svg xmlns=\"http://www.w3.org/2000/svg\" height=\"24px\"viewBox=\"0 0 24 24\"\n",
              "       width=\"24px\">\n",
              "    <path d=\"M0 0h24v24H0V0z\" fill=\"none\"/>\n",
              "    <path d=\"M18.56 5.44l.94 2.06.94-2.06 2.06-.94-2.06-.94-.94-2.06-.94 2.06-2.06.94zm-11 1L8.5 8.5l.94-2.06 2.06-.94-2.06-.94L8.5 2.5l-.94 2.06-2.06.94zm10 10l.94 2.06.94-2.06 2.06-.94-2.06-.94-.94-2.06-.94 2.06-2.06.94z\"/><path d=\"M17.41 7.96l-1.37-1.37c-.4-.4-.92-.59-1.43-.59-.52 0-1.04.2-1.43.59L10.3 9.45l-7.72 7.72c-.78.78-.78 2.05 0 2.83L4 21.41c.39.39.9.59 1.41.59.51 0 1.02-.2 1.41-.59l7.78-7.78 2.81-2.81c.8-.78.8-2.07 0-2.86zM5.41 20L4 18.59l7.72-7.72 1.47 1.35L5.41 20z\"/>\n",
              "  </svg>\n",
              "      </button>\n",
              "      \n",
              "  <style>\n",
              "    .colab-df-container {\n",
              "      display:flex;\n",
              "      flex-wrap:wrap;\n",
              "      gap: 12px;\n",
              "    }\n",
              "\n",
              "    .colab-df-convert {\n",
              "      background-color: #E8F0FE;\n",
              "      border: none;\n",
              "      border-radius: 50%;\n",
              "      cursor: pointer;\n",
              "      display: none;\n",
              "      fill: #1967D2;\n",
              "      height: 32px;\n",
              "      padding: 0 0 0 0;\n",
              "      width: 32px;\n",
              "    }\n",
              "\n",
              "    .colab-df-convert:hover {\n",
              "      background-color: #E2EBFA;\n",
              "      box-shadow: 0px 1px 2px rgba(60, 64, 67, 0.3), 0px 1px 3px 1px rgba(60, 64, 67, 0.15);\n",
              "      fill: #174EA6;\n",
              "    }\n",
              "\n",
              "    [theme=dark] .colab-df-convert {\n",
              "      background-color: #3B4455;\n",
              "      fill: #D2E3FC;\n",
              "    }\n",
              "\n",
              "    [theme=dark] .colab-df-convert:hover {\n",
              "      background-color: #434B5C;\n",
              "      box-shadow: 0px 1px 3px 1px rgba(0, 0, 0, 0.15);\n",
              "      filter: drop-shadow(0px 1px 2px rgba(0, 0, 0, 0.3));\n",
              "      fill: #FFFFFF;\n",
              "    }\n",
              "  </style>\n",
              "\n",
              "      <script>\n",
              "        const buttonEl =\n",
              "          document.querySelector('#df-a298bf80-cddb-46bd-901c-173e31727fbc button.colab-df-convert');\n",
              "        buttonEl.style.display =\n",
              "          google.colab.kernel.accessAllowed ? 'block' : 'none';\n",
              "\n",
              "        async function convertToInteractive(key) {\n",
              "          const element = document.querySelector('#df-a298bf80-cddb-46bd-901c-173e31727fbc');\n",
              "          const dataTable =\n",
              "            await google.colab.kernel.invokeFunction('convertToInteractive',\n",
              "                                                     [key], {});\n",
              "          if (!dataTable) return;\n",
              "\n",
              "          const docLinkHtml = 'Like what you see? Visit the ' +\n",
              "            '<a target=\"_blank\" href=https://colab.research.google.com/notebooks/data_table.ipynb>data table notebook</a>'\n",
              "            + ' to learn more about interactive tables.';\n",
              "          element.innerHTML = '';\n",
              "          dataTable['output_type'] = 'display_data';\n",
              "          await google.colab.output.renderOutput(dataTable, element);\n",
              "          const docLink = document.createElement('div');\n",
              "          docLink.innerHTML = docLinkHtml;\n",
              "          element.appendChild(docLink);\n",
              "        }\n",
              "      </script>\n",
              "    </div>\n",
              "  </div>\n",
              "  "
            ]
          },
          "metadata": {},
          "execution_count": 3
        }
      ]
    },
    {
      "cell_type": "code",
      "source": [
        "df[\"columna1\"] > 4"
      ],
      "metadata": {
        "id": "gimpCGaNyBZZ",
        "outputId": "bd026c36-65bf-46fa-e681-c4b68087e54c",
        "colab": {
          "base_uri": "https://localhost:8080/"
        }
      },
      "execution_count": 7,
      "outputs": [
        {
          "output_type": "execute_result",
          "data": {
            "text/plain": [
              "0    False\n",
              "1    False\n",
              "2    False\n",
              "3    False\n",
              "4     True\n",
              "5     True\n",
              "Name: columna1, dtype: bool"
            ]
          },
          "metadata": {},
          "execution_count": 7
        }
      ]
    },
    {
      "cell_type": "code",
      "source": [
        "df[df[\"columna1\"] > 4]"
      ],
      "metadata": {
        "id": "f0HDXDrcyVdi",
        "outputId": "e32ef257-78e0-41d8-a992-d9b4b8a8ca7b",
        "colab": {
          "base_uri": "https://localhost:8080/",
          "height": 112
        }
      },
      "execution_count": 8,
      "outputs": [
        {
          "output_type": "execute_result",
          "data": {
            "text/plain": [
              "   columna1 columna2\n",
              "4         5        b\n",
              "5         6        c"
            ],
            "text/html": [
              "\n",
              "  <div id=\"df-fe931105-8732-45f5-83c5-da0ad8974f26\">\n",
              "    <div class=\"colab-df-container\">\n",
              "      <div>\n",
              "<style scoped>\n",
              "    .dataframe tbody tr th:only-of-type {\n",
              "        vertical-align: middle;\n",
              "    }\n",
              "\n",
              "    .dataframe tbody tr th {\n",
              "        vertical-align: top;\n",
              "    }\n",
              "\n",
              "    .dataframe thead th {\n",
              "        text-align: right;\n",
              "    }\n",
              "</style>\n",
              "<table border=\"1\" class=\"dataframe\">\n",
              "  <thead>\n",
              "    <tr style=\"text-align: right;\">\n",
              "      <th></th>\n",
              "      <th>columna1</th>\n",
              "      <th>columna2</th>\n",
              "    </tr>\n",
              "  </thead>\n",
              "  <tbody>\n",
              "    <tr>\n",
              "      <th>4</th>\n",
              "      <td>5</td>\n",
              "      <td>b</td>\n",
              "    </tr>\n",
              "    <tr>\n",
              "      <th>5</th>\n",
              "      <td>6</td>\n",
              "      <td>c</td>\n",
              "    </tr>\n",
              "  </tbody>\n",
              "</table>\n",
              "</div>\n",
              "      <button class=\"colab-df-convert\" onclick=\"convertToInteractive('df-fe931105-8732-45f5-83c5-da0ad8974f26')\"\n",
              "              title=\"Convert this dataframe to an interactive table.\"\n",
              "              style=\"display:none;\">\n",
              "        \n",
              "  <svg xmlns=\"http://www.w3.org/2000/svg\" height=\"24px\"viewBox=\"0 0 24 24\"\n",
              "       width=\"24px\">\n",
              "    <path d=\"M0 0h24v24H0V0z\" fill=\"none\"/>\n",
              "    <path d=\"M18.56 5.44l.94 2.06.94-2.06 2.06-.94-2.06-.94-.94-2.06-.94 2.06-2.06.94zm-11 1L8.5 8.5l.94-2.06 2.06-.94-2.06-.94L8.5 2.5l-.94 2.06-2.06.94zm10 10l.94 2.06.94-2.06 2.06-.94-2.06-.94-.94-2.06-.94 2.06-2.06.94z\"/><path d=\"M17.41 7.96l-1.37-1.37c-.4-.4-.92-.59-1.43-.59-.52 0-1.04.2-1.43.59L10.3 9.45l-7.72 7.72c-.78.78-.78 2.05 0 2.83L4 21.41c.39.39.9.59 1.41.59.51 0 1.02-.2 1.41-.59l7.78-7.78 2.81-2.81c.8-.78.8-2.07 0-2.86zM5.41 20L4 18.59l7.72-7.72 1.47 1.35L5.41 20z\"/>\n",
              "  </svg>\n",
              "      </button>\n",
              "      \n",
              "  <style>\n",
              "    .colab-df-container {\n",
              "      display:flex;\n",
              "      flex-wrap:wrap;\n",
              "      gap: 12px;\n",
              "    }\n",
              "\n",
              "    .colab-df-convert {\n",
              "      background-color: #E8F0FE;\n",
              "      border: none;\n",
              "      border-radius: 50%;\n",
              "      cursor: pointer;\n",
              "      display: none;\n",
              "      fill: #1967D2;\n",
              "      height: 32px;\n",
              "      padding: 0 0 0 0;\n",
              "      width: 32px;\n",
              "    }\n",
              "\n",
              "    .colab-df-convert:hover {\n",
              "      background-color: #E2EBFA;\n",
              "      box-shadow: 0px 1px 2px rgba(60, 64, 67, 0.3), 0px 1px 3px 1px rgba(60, 64, 67, 0.15);\n",
              "      fill: #174EA6;\n",
              "    }\n",
              "\n",
              "    [theme=dark] .colab-df-convert {\n",
              "      background-color: #3B4455;\n",
              "      fill: #D2E3FC;\n",
              "    }\n",
              "\n",
              "    [theme=dark] .colab-df-convert:hover {\n",
              "      background-color: #434B5C;\n",
              "      box-shadow: 0px 1px 3px 1px rgba(0, 0, 0, 0.15);\n",
              "      filter: drop-shadow(0px 1px 2px rgba(0, 0, 0, 0.3));\n",
              "      fill: #FFFFFF;\n",
              "    }\n",
              "  </style>\n",
              "\n",
              "      <script>\n",
              "        const buttonEl =\n",
              "          document.querySelector('#df-fe931105-8732-45f5-83c5-da0ad8974f26 button.colab-df-convert');\n",
              "        buttonEl.style.display =\n",
              "          google.colab.kernel.accessAllowed ? 'block' : 'none';\n",
              "\n",
              "        async function convertToInteractive(key) {\n",
              "          const element = document.querySelector('#df-fe931105-8732-45f5-83c5-da0ad8974f26');\n",
              "          const dataTable =\n",
              "            await google.colab.kernel.invokeFunction('convertToInteractive',\n",
              "                                                     [key], {});\n",
              "          if (!dataTable) return;\n",
              "\n",
              "          const docLinkHtml = 'Like what you see? Visit the ' +\n",
              "            '<a target=\"_blank\" href=https://colab.research.google.com/notebooks/data_table.ipynb>data table notebook</a>'\n",
              "            + ' to learn more about interactive tables.';\n",
              "          element.innerHTML = '';\n",
              "          dataTable['output_type'] = 'display_data';\n",
              "          await google.colab.output.renderOutput(dataTable, element);\n",
              "          const docLink = document.createElement('div');\n",
              "          docLink.innerHTML = docLinkHtml;\n",
              "          element.appendChild(docLink);\n",
              "        }\n",
              "      </script>\n",
              "    </div>\n",
              "  </div>\n",
              "  "
            ]
          },
          "metadata": {},
          "execution_count": 8
        }
      ]
    },
    {
      "cell_type": "code",
      "source": [
        "dir(df)"
      ],
      "metadata": {
        "id": "RWlVhf9fzxcj"
      },
      "execution_count": null,
      "outputs": []
    },
    {
      "cell_type": "code",
      "source": [
        "#EDA: Exploratory data analysis"
      ],
      "metadata": {
        "id": "tBBUygBz1JNZ"
      },
      "execution_count": null,
      "outputs": []
    },
    {
      "cell_type": "code",
      "source": [
        "df.info()"
      ],
      "metadata": {
        "id": "71qnmncuz5oA",
        "outputId": "769d727c-d5db-4894-9d99-97e9bbb7a929",
        "colab": {
          "base_uri": "https://localhost:8080/"
        }
      },
      "execution_count": 12,
      "outputs": [
        {
          "output_type": "stream",
          "name": "stdout",
          "text": [
            "<class 'pandas.core.frame.DataFrame'>\n",
            "RangeIndex: 6 entries, 0 to 5\n",
            "Data columns (total 2 columns):\n",
            " #   Column    Non-Null Count  Dtype \n",
            "---  ------    --------------  ----- \n",
            " 0   columna1  6 non-null      int64 \n",
            " 1   columna2  6 non-null      object\n",
            "dtypes: int64(1), object(1)\n",
            "memory usage: 224.0+ bytes\n"
          ]
        }
      ]
    },
    {
      "cell_type": "code",
      "source": [
        "df.plot(x=\"columna2\", y='columna1')"
      ],
      "metadata": {
        "id": "0rdjfkuW1ng0",
        "outputId": "30a6bc3d-6f44-49b3-b3b5-5aea2fa46fb6",
        "colab": {
          "base_uri": "https://localhost:8080/",
          "height": 466
        }
      },
      "execution_count": 16,
      "outputs": [
        {
          "output_type": "execute_result",
          "data": {
            "text/plain": [
              "<Axes: xlabel='columna2'>"
            ]
          },
          "metadata": {},
          "execution_count": 16
        },
        {
          "output_type": "display_data",
          "data": {
            "text/plain": [
              "<Figure size 640x480 with 1 Axes>"
            ],
            "image/png": "[encoded data removed]"
          },
          "metadata": {}
        }
      ]
    },
    {
      "cell_type": "code",
      "source": [
        "df.plot(x=\"columna2\", y='columna1')"
      ],
      "metadata": {
        "id": "2ZXCQO8y2Sbr"
      },
      "execution_count": null,
      "outputs": []
    },
    {
      "cell_type": "code",
      "source": [
        "import plotly.express as px"
      ],
      "metadata": {
        "id": "HYnzYH-W2wCp"
      },
      "execution_count": 20,
      "outputs": []
    },
    {
      "cell_type": "code",
      "source": [
        "def plot(): \n",
        "    df = px.data.gapminder()\n",
        "    fig = px.scatter_3d(\n",
        "        df.query(\"year==2007\"),\n",
        "        x=\"gdpPercap\",\n",
        "        y=\"country\",\n",
        "        z=\"lifeExp\",\n",
        "        size=\"pop\",\n",
        "        color=\"continent\",\n",
        "        hover_name=\"country\",\n",
        "        log_x=True,\n",
        "        size_max=60,\n",
        "        width=800,\n",
        "        height=600,\n",
        "    )"
      ],
      "metadata": {
        "id": "D_t42RwT3LZ2"
      },
      "execution_count": null,
      "outputs": []
    },
    {
      "cell_type": "code",
      "source": [
        "df = px.data.gapminder()"
      ],
      "metadata": {
        "id": "B23bmJfa3bKJ"
      },
      "execution_count": 24,
      "outputs": []
    },
    {
      "cell_type": "code",
      "source": [
        "fig = px.scatter_3d(\n",
        "        df.query(\"year==2007\"),\n",
        "        x=\"gdpPercap\",\n",
        "        y=\"country\",\n",
        "        z=\"lifeExp\",\n",
        "        size=\"pop\",\n",
        "        color=\"continent\",\n",
        "        hover_name=\"country\",\n",
        "        log_x=True,\n",
        "        size_max=60,\n",
        "        width=800,\n",
        "        height=600,\n",
        "    )"
      ],
      "metadata": {
        "id": "kdUcbWmP21dh"
      },
      "execution_count": 25,
      "outputs": []
    },
    {
      "cell_type": "code",
      "source": [
        "fig.show()"
      ],
      "metadata": {
        "id": "-gkryQdl3f9Z",
        "outputId": "d9036897-b6f2-4ed6-c186-f1d729315ac0",
        "colab": {
          "base_uri": "https://localhost:8080/",
          "height": 617
        }
      },
      "execution_count": 26,
      "outputs": [
        {
          "output_type": "display_data",
          "data": {
            "text/html": [
              "<html>\n",
              "<head><meta charset=\"utf-8\" /></head>\n",
              "<body>\n",
              "    <div>            <script src=\"https://cdnjs.cloudflare.com/ajax/libs/mathjax/2.7.5/MathJax.js?config=TeX-AMS-MML_SVG\"></script><script type=\"text/javascript\">if (window.MathJax && window.MathJax.Hub && window.MathJax.Hub.Config) {window.MathJax.Hub.Config({SVG: {font: \"STIX-Web\"}});}</script>                <script type=\"text/javascript\">window.PlotlyConfig = {MathJaxConfig: 'local'};</script>\n",
              "        <script src=\"https://cdn.plot.ly/plotly-2.18.2.min.js\"></script>                <div id=\"2af125ba-aadf-4f55-89d3-5e7b011284fc\" class=\"plotly-graph-div\" style=\"height:600px; width:800px;\"></div>            <script type=\"text/javascript\">                                    window.PLOTLYENV=window.PLOTLYENV || {};                                    if (document.getElementById(\"2af125ba-aadf-4f55-89d3-5e7b011284fc\")) {                    Plotly.newPlot(                        \"2af125ba-aadf-4f55-89d3-5e7b011284fc\",                        [{\"hovertemplate\":\"<b>%{hovertext}</b><br><br>continent=Asia<br>gdpPercap=%{x}<br>country=%{y}<br>lifeExp=%{z}<br>pop=%{marker.size}<extra></extra>\",\"hovertext\":[\"Afghanistan\",\"Bahrain\",\"Bangladesh\",\"Cambodia\",\"China\",\"Hong Kong, China\",\"India\",\"Indonesia\",\"Iran\",\"Iraq\",\"Israel\",\"Japan\",\"Jordan\",\"Korea, Dem. Rep.\",\"Korea, Rep.\",\"Kuwait\",\"Lebanon\",\"Malaysia\",\"Mongolia\",\"Myanmar\",\"Nepal\",\"Oman\",\"Pakistan\",\"Philippines\",\"Saudi Arabia\",\"Singapore\",\"Sri Lanka\",\"Syria\",\"Taiwan\",\"Thailand\",\"Vietnam\",\"West Bank and Gaza\",\"Yemen, Rep.\"],\"legendgroup\":\"Asia\",\"marker\":{\"color\":\"#636efa\",\"size\":[31889923,708573,150448339,14131858,1318683096,6980412,1110396331,223547000,69453570,27499638,6426679,127467972,6053193,23301725,49044790,2505559,3921278,24821286,2874127,47761980,28901790,3204897,169270617,91077287,27601038,4553009,20378239,19314747,23174294,65068149,85262356,4018332,22211743],\"sizemode\":\"area\",\"sizeref\":366300.86,\"symbol\":\"circle\"},\"mode\":\"markers\",\"name\":\"Asia\",\"scene\":\"scene\",\"showlegend\":true,\"x\":[974.5803384,29796.04834,1391.253792,1713.778686,4959.114854,39724.97867,2452.210407,3540.651564,11605.71449,4471.061906,25523.2771,31656.06806,4519.461171,1593.06548,23348.139730000006,47306.98978,10461.05868,12451.6558,3095.7722710000007,944.0,1091.359778,22316.19287,2605.94758,3190.481016,21654.83194,47143.17964,3970.095407,4184.548089,28718.27684,7458.396326999998,2441.576404,3025.349798,2280.769906],\"y\":[\"Afghanistan\",\"Bahrain\",\"Bangladesh\",\"Cambodia\",\"China\",\"Hong Kong, China\",\"India\",\"Indonesia\",\"Iran\",\"Iraq\",\"Israel\",\"Japan\",\"Jordan\",\"Korea, Dem. Rep.\",\"Korea, Rep.\",\"Kuwait\",\"Lebanon\",\"Malaysia\",\"Mongolia\",\"Myanmar\",\"Nepal\",\"Oman\",\"Pakistan\",\"Philippines\",\"Saudi Arabia\",\"Singapore\",\"Sri Lanka\",\"Syria\",\"Taiwan\",\"Thailand\",\"Vietnam\",\"West Bank and Gaza\",\"Yemen, Rep.\"],\"z\":[43.828,75.635,64.062,59.723,72.961,82.208,64.69800000000001,70.65,70.964,59.545,80.745,82.603,72.535,67.297,78.623,77.58800000000002,71.993,74.241,66.803,62.069,63.785,75.64,65.483,71.688,72.777,79.972,72.396,74.143,78.4,70.616,74.249,73.422,62.698],\"type\":\"scatter3d\"},{\"hovertemplate\":\"<b>%{hovertext}</b><br><br>continent=Europe<br>gdpPercap=%{x}<br>country=%{y}<br>lifeExp=%{z}<br>pop=%{marker.size}<extra></extra>\",\"hovertext\":[\"Albania\",\"Austria\",\"Belgium\",\"Bosnia and Herzegovina\",\"Bulgaria\",\"Croatia\",\"Czech Republic\",\"Denmark\",\"Finland\",\"France\",\"Germany\",\"Greece\",\"Hungary\",\"Iceland\",\"Ireland\",\"Italy\",\"Montenegro\",\"Netherlands\",\"Norway\",\"Poland\",\"Portugal\",\"Romania\",\"Serbia\",\"Slovak Republic\",\"Slovenia\",\"Spain\",\"Sweden\",\"Switzerland\",\"Turkey\",\"United Kingdom\"],\"legendgroup\":\"Europe\",\"marker\":{\"color\":\"#EF553B\",\"size\":[3600523,8199783,10392226,4552198,7322858,4493312,10228744,5468120,5238460,61083916,82400996,10706290,9956108,301931,4109086,58147733,684736,16570613,4627926,38518241,10642836,22276056,10150265,5447502,2009245,40448191,9031088,7554661,71158647,60776238],\"sizemode\":\"area\",\"sizeref\":366300.86,\"symbol\":\"circle\"},\"mode\":\"markers\",\"name\":\"Europe\",\"scene\":\"scene\",\"showlegend\":true,\"x\":[5937.029525999998,36126.4927,33692.60508,7446.298803,10680.79282,14619.222719999998,22833.30851,35278.41874,33207.0844,30470.0167,32170.37442,27538.41188,18008.94444,36180.78919,40675.99635,28569.7197,9253.896111,36797.93332,49357.19017,15389.924680000002,20509.64777,10808.47561,9786.534714,18678.31435,25768.25759,28821.0637,33859.74835,37506.41907,8458.276384,33203.26128],\"y\":[\"Albania\",\"Austria\",\"Belgium\",\"Bosnia and Herzegovina\",\"Bulgaria\",\"Croatia\",\"Czech Republic\",\"Denmark\",\"Finland\",\"France\",\"Germany\",\"Greece\",\"Hungary\",\"Iceland\",\"Ireland\",\"Italy\",\"Montenegro\",\"Netherlands\",\"Norway\",\"Poland\",\"Portugal\",\"Romania\",\"Serbia\",\"Slovak Republic\",\"Slovenia\",\"Spain\",\"Sweden\",\"Switzerland\",\"Turkey\",\"United Kingdom\"],\"z\":[76.423,79.829,79.441,74.852,73.005,75.748,76.486,78.332,79.313,80.657,79.406,79.483,73.33800000000002,81.757,78.885,80.546,74.543,79.762,80.196,75.563,78.098,72.476,74.002,74.663,77.926,80.941,80.884,81.70100000000002,71.777,79.425],\"type\":\"scatter3d\"},{\"hovertemplate\":\"<b>%{hovertext}</b><br><br>continent=Africa<br>gdpPercap=%{x}<br>country=%{y}<br>lifeExp=%{z}<br>pop=%{marker.size}<extra></extra>\",\"hovertext\":[\"Algeria\",\"Angola\",\"Benin\",\"Botswana\",\"Burkina Faso\",\"Burundi\",\"Cameroon\",\"Central African Republic\",\"Chad\",\"Comoros\",\"Congo, Dem. Rep.\",\"Congo, Rep.\",\"Cote d'Ivoire\",\"Djibouti\",\"Egypt\",\"Equatorial Guinea\",\"Eritrea\",\"Ethiopia\",\"Gabon\",\"Gambia\",\"Ghana\",\"Guinea\",\"Guinea-Bissau\",\"Kenya\",\"Lesotho\",\"Liberia\",\"Libya\",\"Madagascar\",\"Malawi\",\"Mali\",\"Mauritania\",\"Mauritius\",\"Morocco\",\"Mozambique\",\"Namibia\",\"Niger\",\"Nigeria\",\"Reunion\",\"Rwanda\",\"Sao Tome and Principe\",\"Senegal\",\"Sierra Leone\",\"Somalia\",\"South Africa\",\"Sudan\",\"Swaziland\",\"Tanzania\",\"Togo\",\"Tunisia\",\"Uganda\",\"Zambia\",\"Zimbabwe\"],\"legendgroup\":\"Africa\",\"marker\":{\"color\":\"#00cc96\",\"size\":[33333216,12420476,8078314,1639131,14326203,8390505,17696293,4369038,10238807,710960,64606759,3800610,18013409,496374,80264543,551201,4906585,76511887,1454867,1688359,22873338,9947814,1472041,35610177,2012649,3193942,6036914,19167654,13327079,12031795,3270065,1250882,33757175,19951656,2055080,12894865,135031164,798094,8860588,199579,12267493,6144562,9118773,43997828,42292929,1133066,38139640,5701579,10276158,29170398,11746035,12311143],\"sizemode\":\"area\",\"sizeref\":366300.86,\"symbol\":\"circle\"},\"mode\":\"markers\",\"name\":\"Africa\",\"scene\":\"scene\",\"showlegend\":true,\"x\":[6223.367465,4797.231267,1441.284873,12569.85177,1217.032994,430.0706916,2042.09524,706.016537,1704.063724,986.1478792,277.5518587,3632.557798,1544.750112,2082.4815670000007,5581.180998,12154.08975,641.3695236000002,690.8055759,13206.48452,752.7497265,1327.60891,942.6542111,579.2317429999998,1463.249282,1569.331442,414.5073415,12057.49928,1044.770126,759.3499101,1042.581557,1803.151496,10956.99112,3820.17523,823.6856205,4811.060429,619.6768923999998,2013.977305,7670.122558,863.0884639000002,1598.435089,1712.472136,862.5407561000002,926.1410683,9269.657808,2602.394995,4513.480643,1107.482182,882.9699437999999,7092.923025,1056.380121,1271.211593,469.70929810000007],\"y\":[\"Algeria\",\"Angola\",\"Benin\",\"Botswana\",\"Burkina Faso\",\"Burundi\",\"Cameroon\",\"Central African Republic\",\"Chad\",\"Comoros\",\"Congo, Dem. Rep.\",\"Congo, Rep.\",\"Cote d'Ivoire\",\"Djibouti\",\"Egypt\",\"Equatorial Guinea\",\"Eritrea\",\"Ethiopia\",\"Gabon\",\"Gambia\",\"Ghana\",\"Guinea\",\"Guinea-Bissau\",\"Kenya\",\"Lesotho\",\"Liberia\",\"Libya\",\"Madagascar\",\"Malawi\",\"Mali\",\"Mauritania\",\"Mauritius\",\"Morocco\",\"Mozambique\",\"Namibia\",\"Niger\",\"Nigeria\",\"Reunion\",\"Rwanda\",\"Sao Tome and Principe\",\"Senegal\",\"Sierra Leone\",\"Somalia\",\"South Africa\",\"Sudan\",\"Swaziland\",\"Tanzania\",\"Togo\",\"Tunisia\",\"Uganda\",\"Zambia\",\"Zimbabwe\"],\"z\":[72.301,42.731,56.728,50.728,52.295,49.58,50.43,44.74100000000001,50.651,65.152,46.462,55.322,48.328,54.791,71.33800000000002,51.57899999999999,58.04,52.947,56.735,59.448,60.022,56.007,46.38800000000001,54.11,42.592,45.678,73.952,59.44300000000001,48.303,54.467,64.164,72.801,71.164,42.082,52.90600000000001,56.867,46.859,76.442,46.242,65.528,63.062,42.56800000000001,48.159,49.339,58.556,39.613,52.517,58.42,73.923,51.542,42.38399999999999,43.487],\"type\":\"scatter3d\"},{\"hovertemplate\":\"<b>%{hovertext}</b><br><br>continent=Americas<br>gdpPercap=%{x}<br>country=%{y}<br>lifeExp=%{z}<br>pop=%{marker.size}<extra></extra>\",\"hovertext\":[\"Argentina\",\"Bolivia\",\"Brazil\",\"Canada\",\"Chile\",\"Colombia\",\"Costa Rica\",\"Cuba\",\"Dominican Republic\",\"Ecuador\",\"El Salvador\",\"Guatemala\",\"Haiti\",\"Honduras\",\"Jamaica\",\"Mexico\",\"Nicaragua\",\"Panama\",\"Paraguay\",\"Peru\",\"Puerto Rico\",\"Trinidad and Tobago\",\"United States\",\"Uruguay\",\"Venezuela\"],\"legendgroup\":\"Americas\",\"marker\":{\"color\":\"#ab63fa\",\"size\":[40301927,9119152,190010647,33390141,16284741,44227550,4133884,11416987,9319622,13755680,6939688,12572928,8502814,7483763,2780132,108700891,5675356,3242173,6667147,28674757,3942491,1056608,301139947,3447496,26084662],\"sizemode\":\"area\",\"sizeref\":366300.86,\"symbol\":\"circle\"},\"mode\":\"markers\",\"name\":\"Americas\",\"scene\":\"scene\",\"showlegend\":true,\"x\":[12779.37964,3822.137084,9065.800825,36319.23501,13171.63885,7006.580419,9645.06142,8948.102923,6025.3747520000015,6873.262326000001,5728.353514,5186.050003,1201.637154,3548.3308460000007,7320.8802620000015,11977.57496,2749.320965,9809.185636,4172.838464,7408.905561,19328.70901,18008.50924,42951.65309,10611.46299,11415.80569],\"y\":[\"Argentina\",\"Bolivia\",\"Brazil\",\"Canada\",\"Chile\",\"Colombia\",\"Costa Rica\",\"Cuba\",\"Dominican Republic\",\"Ecuador\",\"El Salvador\",\"Guatemala\",\"Haiti\",\"Honduras\",\"Jamaica\",\"Mexico\",\"Nicaragua\",\"Panama\",\"Paraguay\",\"Peru\",\"Puerto Rico\",\"Trinidad and Tobago\",\"United States\",\"Uruguay\",\"Venezuela\"],\"z\":[75.32,65.554,72.39,80.653,78.553,72.889,78.782,78.273,72.235,74.994,71.878,70.259,60.916,70.19800000000001,72.567,76.195,72.899,75.53699999999998,71.752,71.421,78.74600000000002,69.819,78.242,76.384,73.747],\"type\":\"scatter3d\"},{\"hovertemplate\":\"<b>%{hovertext}</b><br><br>continent=Oceania<br>gdpPercap=%{x}<br>country=%{y}<br>lifeExp=%{z}<br>pop=%{marker.size}<extra></extra>\",\"hovertext\":[\"Australia\",\"New Zealand\"],\"legendgroup\":\"Oceania\",\"marker\":{\"color\":\"#FFA15A\",\"size\":[20434176,4115771],\"sizemode\":\"area\",\"sizeref\":366300.86,\"symbol\":\"circle\"},\"mode\":\"markers\",\"name\":\"Oceania\",\"scene\":\"scene\",\"showlegend\":true,\"x\":[34435.367439999995,25185.00911],\"y\":[\"Australia\",\"New Zealand\"],\"z\":[81.235,80.204],\"type\":\"scatter3d\"}],                        {\"template\":{\"data\":{\"histogram2dcontour\":[{\"type\":\"histogram2dcontour\",\"colorbar\":{\"outlinewidth\":0,\"ticks\":\"\"},\"colorscale\":[[0.0,\"#0d0887\"],[0.1111111111111111,\"#46039f\"],[0.2222222222222222,\"#7201a8\"],[0.3333333333333333,\"#9c179e\"],[0.4444444444444444,\"#bd3786\"],[0.5555555555555556,\"#d8576b\"],[0.6666666666666666,\"#ed7953\"],[0.7777777777777778,\"#fb9f3a\"],[0.8888888888888888,\"#fdca26\"],[1.0,\"#f0f921\"]]}],\"choropleth\":[{\"type\":\"choropleth\",\"colorbar\":{\"outlinewidth\":0,\"ticks\":\"\"}}],\"histogram2d\":[{\"type\":\"histogram2d\",\"colorbar\":{\"outlinewidth\":0,\"ticks\":\"\"},\"colorscale\":[[0.0,\"#0d0887\"],[0.1111111111111111,\"#46039f\"],[0.2222222222222222,\"#7201a8\"],[0.3333333333333333,\"#9c179e\"],[0.4444444444444444,\"#bd3786\"],[0.5555555555555556,\"#d8576b\"],[0.6666666666666666,\"#ed7953\"],[0.7777777777777778,\"#fb9f3a\"],[0.8888888888888888,\"#fdca26\"],[1.0,\"#f0f921\"]]}],\"heatmap\":[{\"type\":\"heatmap\",\"colorbar\":{\"outlinewidth\":0,\"ticks\":\"\"},\"colorscale\":[[0.0,\"#0d0887\"],[0.1111111111111111,\"#46039f\"],[0.2222222222222222,\"#7201a8\"],[0.3333333333333333,\"#9c179e\"],[0.4444444444444444,\"#bd3786\"],[0.5555555555555556,\"#d8576b\"],[0.6666666666666666,\"#ed7953\"],[0.7777777777777778,\"#fb9f3a\"],[0.8888888888888888,\"#fdca26\"],[1.0,\"#f0f921\"]]}],\"heatmapgl\":[{\"type\":\"heatmapgl\",\"colorbar\":{\"outlinewidth\":0,\"ticks\":\"\"},\"colorscale\":[[0.0,\"#0d0887\"],[0.1111111111111111,\"#46039f\"],[0.2222222222222222,\"#7201a8\"],[0.3333333333333333,\"#9c179e\"],[0.4444444444444444,\"#bd3786\"],[0.5555555555555556,\"#d8576b\"],[0.6666666666666666,\"#ed7953\"],[0.7777777777777778,\"#fb9f3a\"],[0.8888888888888888,\"#fdca26\"],[1.0,\"#f0f921\"]]}],\"contourcarpet\":[{\"type\":\"contourcarpet\",\"colorbar\":{\"outlinewidth\":0,\"ticks\":\"\"}}],\"contour\":[{\"type\":\"contour\",\"colorbar\":{\"outlinewidth\":0,\"ticks\":\"\"},\"colorscale\":[[0.0,\"#0d0887\"],[0.1111111111111111,\"#46039f\"],[0.2222222222222222,\"#7201a8\"],[0.3333333333333333,\"#9c179e\"],[0.4444444444444444,\"#bd3786\"],[0.5555555555555556,\"#d8576b\"],[0.6666666666666666,\"#ed7953\"],[0.7777777777777778,\"#fb9f3a\"],[0.8888888888888888,\"#fdca26\"],[1.0,\"#f0f921\"]]}],\"surface\":[{\"type\":\"surface\",\"colorbar\":{\"outlinewidth\":0,\"ticks\":\"\"},\"colorscale\":[[0.0,\"#0d0887\"],[0.1111111111111111,\"#46039f\"],[0.2222222222222222,\"#7201a8\"],[0.3333333333333333,\"#9c179e\"],[0.4444444444444444,\"#bd3786\"],[0.5555555555555556,\"#d8576b\"],[0.6666666666666666,\"#ed7953\"],[0.7777777777777778,\"#fb9f3a\"],[0.8888888888888888,\"#fdca26\"],[1.0,\"#f0f921\"]]}],\"mesh3d\":[{\"type\":\"mesh3d\",\"colorbar\":{\"outlinewidth\":0,\"ticks\":\"\"}}],\"scatter\":[{\"fillpattern\":{\"fillmode\":\"overlay\",\"size\":10,\"solidity\":0.2},\"type\":\"scatter\"}],\"parcoords\":[{\"type\":\"parcoords\",\"line\":{\"colorbar\":{\"outlinewidth\":0,\"ticks\":\"\"}}}],\"scatterpolargl\":[{\"type\":\"scatterpolargl\",\"marker\":{\"colorbar\":{\"outlinewidth\":0,\"ticks\":\"\"}}}],\"bar\":[{\"error_x\":{\"color\":\"#2a3f5f\"},\"error_y\":{\"color\":\"#2a3f5f\"},\"marker\":{\"line\":{\"color\":\"#E5ECF6\",\"width\":0.5},\"pattern\":{\"fillmode\":\"overlay\",\"size\":10,\"solidity\":0.2}},\"type\":\"bar\"}],\"scattergeo\":[{\"type\":\"scattergeo\",\"marker\":{\"colorbar\":{\"outlinewidth\":0,\"ticks\":\"\"}}}],\"scatterpolar\":[{\"type\":\"scatterpolar\",\"marker\":{\"colorbar\":{\"outlinewidth\":0,\"ticks\":\"\"}}}],\"histogram\":[{\"marker\":{\"pattern\":{\"fillmode\":\"overlay\",\"size\":10,\"solidity\":0.2}},\"type\":\"histogram\"}],\"scattergl\":[{\"type\":\"scattergl\",\"marker\":{\"colorbar\":{\"outlinewidth\":0,\"ticks\":\"\"}}}],\"scatter3d\":[{\"type\":\"scatter3d\",\"line\":{\"colorbar\":{\"outlinewidth\":0,\"ticks\":\"\"}},\"marker\":{\"colorbar\":{\"outlinewidth\":0,\"ticks\":\"\"}}}],\"scattermapbox\":[{\"type\":\"scattermapbox\",\"marker\":{\"colorbar\":{\"outlinewidth\":0,\"ticks\":\"\"}}}],\"scatterternary\":[{\"type\":\"scatterternary\",\"marker\":{\"colorbar\":{\"outlinewidth\":0,\"ticks\":\"\"}}}],\"scattercarpet\":[{\"type\":\"scattercarpet\",\"marker\":{\"colorbar\":{\"outlinewidth\":0,\"ticks\":\"\"}}}],\"carpet\":[{\"aaxis\":{\"endlinecolor\":\"#2a3f5f\",\"gridcolor\":\"white\",\"linecolor\":\"white\",\"minorgridcolor\":\"white\",\"startlinecolor\":\"#2a3f5f\"},\"baxis\":{\"endlinecolor\":\"#2a3f5f\",\"gridcolor\":\"white\",\"linecolor\":\"white\",\"minorgridcolor\":\"white\",\"startlinecolor\":\"#2a3f5f\"},\"type\":\"carpet\"}],\"table\":[{\"cells\":{\"fill\":{\"color\":\"#EBF0F8\"},\"line\":{\"color\":\"white\"}},\"header\":{\"fill\":{\"color\":\"#C8D4E3\"},\"line\":{\"color\":\"white\"}},\"type\":\"table\"}],\"barpolar\":[{\"marker\":{\"line\":{\"color\":\"#E5ECF6\",\"width\":0.5},\"pattern\":{\"fillmode\":\"overlay\",\"size\":10,\"solidity\":0.2}},\"type\":\"barpolar\"}],\"pie\":[{\"automargin\":true,\"type\":\"pie\"}]},\"layout\":{\"autotypenumbers\":\"strict\",\"colorway\":[\"#636efa\",\"#EF553B\",\"#00cc96\",\"#ab63fa\",\"#FFA15A\",\"#19d3f3\",\"#FF6692\",\"#B6E880\",\"#FF97FF\",\"#FECB52\"],\"font\":{\"color\":\"#2a3f5f\"},\"hovermode\":\"closest\",\"hoverlabel\":{\"align\":\"left\"},\"paper_bgcolor\":\"white\",\"plot_bgcolor\":\"#E5ECF6\",\"polar\":{\"bgcolor\":\"#E5ECF6\",\"angularaxis\":{\"gridcolor\":\"white\",\"linecolor\":\"white\",\"ticks\":\"\"},\"radialaxis\":{\"gridcolor\":\"white\",\"linecolor\":\"white\",\"ticks\":\"\"}},\"ternary\":{\"bgcolor\":\"#E5ECF6\",\"aaxis\":{\"gridcolor\":\"white\",\"linecolor\":\"white\",\"ticks\":\"\"},\"baxis\":{\"gridcolor\":\"white\",\"linecolor\":\"white\",\"ticks\":\"\"},\"caxis\":{\"gridcolor\":\"white\",\"linecolor\":\"white\",\"ticks\":\"\"}},\"coloraxis\":{\"colorbar\":{\"outlinewidth\":0,\"ticks\":\"\"}},\"colorscale\":{\"sequential\":[[0.0,\"#0d0887\"],[0.1111111111111111,\"#46039f\"],[0.2222222222222222,\"#7201a8\"],[0.3333333333333333,\"#9c179e\"],[0.4444444444444444,\"#bd3786\"],[0.5555555555555556,\"#d8576b\"],[0.6666666666666666,\"#ed7953\"],[0.7777777777777778,\"#fb9f3a\"],[0.8888888888888888,\"#fdca26\"],[1.0,\"#f0f921\"]],\"sequentialminus\":[[0.0,\"#0d0887\"],[0.1111111111111111,\"#46039f\"],[0.2222222222222222,\"#7201a8\"],[0.3333333333333333,\"#9c179e\"],[0.4444444444444444,\"#bd3786\"],[0.5555555555555556,\"#d8576b\"],[0.6666666666666666,\"#ed7953\"],[0.7777777777777778,\"#fb9f3a\"],[0.8888888888888888,\"#fdca26\"],[1.0,\"#f0f921\"]],\"diverging\":[[0,\"#8e0152\"],[0.1,\"#c51b7d\"],[0.2,\"#de77ae\"],[0.3,\"#f1b6da\"],[0.4,\"#fde0ef\"],[0.5,\"#f7f7f7\"],[0.6,\"#e6f5d0\"],[0.7,\"#b8e186\"],[0.8,\"#7fbc41\"],[0.9,\"#4d9221\"],[1,\"#276419\"]]},\"xaxis\":{\"gridcolor\":\"white\",\"linecolor\":\"white\",\"ticks\":\"\",\"title\":{\"standoff\":15},\"zerolinecolor\":\"white\",\"automargin\":true,\"zerolinewidth\":2},\"yaxis\":{\"gridcolor\":\"white\",\"linecolor\":\"white\",\"ticks\":\"\",\"title\":{\"standoff\":15},\"zerolinecolor\":\"white\",\"automargin\":true,\"zerolinewidth\":2},\"scene\":{\"xaxis\":{\"backgroundcolor\":\"#E5ECF6\",\"gridcolor\":\"white\",\"linecolor\":\"white\",\"showbackground\":true,\"ticks\":\"\",\"zerolinecolor\":\"white\",\"gridwidth\":2},\"yaxis\":{\"backgroundcolor\":\"#E5ECF6\",\"gridcolor\":\"white\",\"linecolor\":\"white\",\"showbackground\":true,\"ticks\":\"\",\"zerolinecolor\":\"white\",\"gridwidth\":2},\"zaxis\":{\"backgroundcolor\":\"#E5ECF6\",\"gridcolor\":\"white\",\"linecolor\":\"white\",\"showbackground\":true,\"ticks\":\"\",\"zerolinecolor\":\"white\",\"gridwidth\":2}},\"shapedefaults\":{\"line\":{\"color\":\"#2a3f5f\"}},\"annotationdefaults\":{\"arrowcolor\":\"#2a3f5f\",\"arrowhead\":0,\"arrowwidth\":1},\"geo\":{\"bgcolor\":\"white\",\"landcolor\":\"#E5ECF6\",\"subunitcolor\":\"white\",\"showland\":true,\"showlakes\":true,\"lakecolor\":\"white\"},\"title\":{\"x\":0.05},\"mapbox\":{\"style\":\"light\"}}},\"scene\":{\"domain\":{\"x\":[0.0,1.0],\"y\":[0.0,1.0]},\"xaxis\":{\"title\":{\"text\":\"gdpPercap\"},\"type\":\"log\"},\"yaxis\":{\"title\":{\"text\":\"country\"}},\"zaxis\":{\"title\":{\"text\":\"lifeExp\"}}},\"legend\":{\"title\":{\"text\":\"continent\"},\"tracegroupgap\":0,\"itemsizing\":\"constant\"},\"margin\":{\"t\":60},\"height\":600,\"width\":800},                        {\"responsive\": true}                    ).then(function(){\n",
              "                            \n",
              "var gd = document.getElementById('2af125ba-aadf-4f55-89d3-5e7b011284fc');\n",
              "var x = new MutationObserver(function (mutations, observer) {{\n",
              "        var display = window.getComputedStyle(gd).display;\n",
              "        if (!display || display === 'none') {{\n",
              "            console.log([gd, 'removed!']);\n",
              "            Plotly.purge(gd);\n",
              "            observer.disconnect();\n",
              "        }}\n",
              "}});\n",
              "\n",
              "// Listen for the removal of the full notebook cells\n",
              "var notebookContainer = gd.closest('#notebook-container');\n",
              "if (notebookContainer) {{\n",
              "    x.observe(notebookContainer, {childList: true});\n",
              "}}\n",
              "\n",
              "// Listen for the clearing of the current output cell\n",
              "var outputEl = gd.closest('.output');\n",
              "if (outputEl) {{\n",
              "    x.observe(outputEl, {childList: true});\n",
              "}}\n",
              "\n",
              "                        })                };                            </script>        </div>\n",
              "</body>\n",
              "</html>"
            ]
          },
          "metadata": {}
        }
      ]
    },
    {
      "cell_type": "code",
      "source": [
        "# ETL : Extaccion transformacion y carga"
      ],
      "metadata": {
        "id": "ulx4rsw94YiN"
      },
      "execution_count": null,
      "outputs": []
    },
    {
      "cell_type": "code",
      "source": [],
      "metadata": {
        "id": "6Yfq3QHw4doI"
      },
      "execution_count": null,
      "outputs": []
    }
  ]
}