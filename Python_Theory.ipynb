{
  "nbformat": 4,
  "nbformat_minor": 0,
  "metadata": {
    "colab": {
      "provenance": [],
      "authorship_tag": "ABX9TyMEwQeo0w/rWnCkjXSDkAXu",
      "include_colab_link": true
    },
    "kernelspec": {
      "name": "python3",
      "display_name": "Python 3"
    },
    "language_info": {
      "name": "python"
    }
  },
  "cells": [
    {
      "cell_type": "markdown",
      "metadata": {
        "id": "view-in-github",
        "colab_type": "text"
      },
      "source": [
        "<a href=\"https://colab.research.google.com/github/axisSN01/Python-learning-path-ChatGPT/blob/main/Python_Theory.ipynb\" target=\"_parent\"><img src=\"https://colab.research.google.com/assets/colab-badge.svg\" alt=\"Open In Colab\"/></a>"
      ]
    },
    {
      "cell_type": "markdown",
      "source": [
        "# Theory \n",
        "---"
      ],
      "metadata": {
        "id": "8Ez74Bv5AA7h"
      }
    },
    {
      "cell_type": "markdown",
      "source": [
        "## 1st round"
      ],
      "metadata": {
        "id": "1o_svWk0AJrZ"
      }
    },
    {
      "cell_type": "markdown",
      "source": [
        "### what will we learn?\n",
        " + brief history of Python and Why's\n",
        " + More why's, what's \n",
        " + Talk about \"where we are\"\n",
        " + jump to hands-on"
      ],
      "metadata": {
        "id": "J0ZGIzDdCWdR"
      }
    },
    {
      "cell_type": "markdown",
      "source": [
        "<img src=\"https://raw.githubusercontent.com/axisSN01/Python-learning-path-ChatGPT/main/images/0.jpg\" width=\"400\" height=\"200\">\n"
      ],
      "metadata": {
        "id": "_cW8saM9ASlM"
      }
    },
    {
      "cell_type": "markdown",
      "source": [
        "### Breve historia de los lenguajes \n",
        "\n",
        "<img src=\"https://raw.githubusercontent.com/axisSN01/Python-learning-path-ChatGPT/main/images/1.svg\" width=\"100%\" height=\"100%\">"
      ],
      "metadata": {
        "id": "e9Nh_gi93bOr"
      }
    },
    {
      "cell_type": "markdown",
      "source": [
        "### Como medir tu habilidad como programador\n",
        "\n",
        "<img src=\"https://raw.githubusercontent.com/axisSN01/Python-learning-path-ChatGPT/main/images/5.svg\" width=\"100%\" height=\"100%\">"
      ],
      "metadata": {
        "id": "iDMRQ8epOlPG"
      }
    },
    {
      "cell_type": "markdown",
      "source": [
        "### Como avanzar en el tiempo\n",
        "\n",
        "<img src=\"https://raw.githubusercontent.com/axisSN01/Python-learning-path-ChatGPT/main/images/6.svg\" width=\"100%\" height=\"100%\">"
      ],
      "metadata": {
        "id": "pjj0-QmvOk_O"
      }
    },
    {
      "cell_type": "markdown",
      "source": [
        "### Caracteristicas de lenguajes\n",
        "\n",
        "<img src=\"https://raw.githubusercontent.com/axisSN01/Python-learning-path-ChatGPT/main/images/2.svg\" width='100%' height='%100'>"
      ],
      "metadata": {
        "id": "1_zuRAVX3io7"
      }
    },
    {
      "cell_type": "markdown",
      "source": [
        "### PORQUES?\n",
        "\n",
        "<img src=\"https://raw.githubusercontent.com/axisSN01/Python-learning-path-ChatGPT/main/images/3.svg\" width='100%' height='%100'>"
      ],
      "metadata": {
        "id": "hOQxdzu03kTJ"
      }
    },
    {
      "cell_type": "markdown",
      "source": [
        "### Pensamiento algoritmico, que es eso?\n",
        "\n",
        "<img src=\"https://raw.githubusercontent.com/axisSN01/Python-learning-path-ChatGPT/main/images/4.svg\" width='100%' height='%100'>"
      ],
      "metadata": {
        "id": "AyuUWaj43nwy"
      }
    },
    {
      "cell_type": "code",
      "source": [
        "import this"
      ],
      "metadata": {
        "id": "YCTRbd7QAGVt"
      },
      "execution_count": null,
      "outputs": []
    },
    {
      "cell_type": "markdown",
      "source": [
        "### Where do we are?\n",
        "\n",
        "Question | Cami | Caste | Mati | Fran | Cam | Juampi | Santi \n",
        "-|-|-|-|-|-|-|-|\n",
        "Did you use python before? how much? |`dadadwawddddddddddddddddddddddddddddddddd`<br>`ddddddddddddddddddddddddddddddddddddddddd`<br>`adaawdawdawdawdawdawdaw`|`dadadwawddddddddddddddddddddddddddddddddd`<br>`ddddddddddddddddddddddddddddddddddddddddd`<br>`adaawdawdawdawdawdawdaw`| `dadadwawddddddddddddddddddddddddddddddddd`<br>`ddddddddddddddddddddddddddddddddddddddddd`<br>`adaawdawdawdawdawdawdaw`|\n",
        "Which libraries did you know/use?  |`dadadwawddddddddddddddddddddddddddddddddd`<br>`ddddddddddddddddddddddddddddddddddddddddd`<br>`adaawdawdawdawdawdawdaw`|`dadadwawddddddddddddddddddddddddddddddddd`<br>`ddddddddddddddddddddddddddddddddddddddddd`<br>`adaawdawdawdawdawdawdaw`| `dadadwawddddddddddddddddddddddddddddddddd`<br>`ddddddddddddddddddddddddddddddddddddddddd`<br>`adaawdawdawdawdawdawdaw`|\n",
        "What other lenguages do you know? how much? |`dadadwawddddddddddddddddddddddddddddddddd`<br>`ddddddddddddddddddddddddddddddddddddddddd`<br>`adaawdawdawdawdawdawdaw`|`dadadwawddddddddddddddddddddddddddddddddd`<br>`ddddddddddddddddddddddddddddddddddddddddd`<br>`adaawdawdawdawdawdawdaw`| `dadadwawddddddddddddddddddddddddddddddddd`<br>`ddddddddddddddddddddddddddddddddddddddddd`<br>`adaawdawdawdawdawdawdaw`|\n",
        "Do you know the difference between a Class and an Instance?|`dadadwawddddddddddddddddddddddddddddddddd`<br>`ddddddddddddddddddddddddddddddddddddddddd`<br>`adaawdawdawdawdawdawdaw`|`dadadwawddddddddddddddddddddddddddddddddd`<br>`ddddddddddddddddddddddddddddddddddddddddd`<br>`adaawdawdawdawdawdawdaw`| `dadadwawddddddddddddddddddddddddddddddddd`<br>`ddddddddddddddddddddddddddddddddddddddddd`<br>`adaawdawdawdawdawdawdaw`|\n",
        "Do you know what is a recursive function?|`dadadwawddddddddddddddddddddddddddddddddd`<br>`ddddddddddddddddddddddddddddddddddddddddd`<br>`adaawdawdawdawdawdawdaw`|`dadadwawddddddddddddddddddddddddddddddddd`<br>`ddddddddddddddddddddddddddddddddddddddddd`<br>`adaawdawdawdawdawdawdaw`| `dadadwawddddddddddddddddddddddddddddddddd`<br>`ddddddddddddddddddddddddddddddddddddddddd`<br>`adaawdawdawdawdawdawdaw`|\n",
        "what would you like to achieve o develop in the short time with Python?|`dadadwawddddddddddddddddddddddddddddddddd`<br>`ddddddddddddddddddddddddddddddddddddddddd`<br>`adaawdawdawdawdawdawdaw`|`dadadwawddddddddddddddddddddddddddddddddd`<br>`ddddddddddddddddddddddddddddddddddddddddd`<br>`adaawdawdawdawdawdawdaw`| `dadadwawddddddddddddddddddddddddddddddddd`<br>`ddddddddddddddddddddddddddddddddddddddddd`<br>`adaawdawdawdawdawdawdaw`|\n",
        "\n",
        "\n"
      ],
      "metadata": {
        "id": "en1qdseI5zLm"
      }
    },
    {
      "cell_type": "markdown",
      "source": [
        "### Step 1 reference: \n",
        "### - Documentation: https://docs.python.org/3/\n",
        "### - Your right hand: https://chat.openai.com/chat\n",
        "### - Nice blog: https://realpython.com/\n",
        "### - Course Repo: https://github.com/axisSN01/Python-learning-path-ChatGPT\n",
        "--- \n",
        "\n",
        "\n",
        "\n",
        "\n",
        "\n"
      ],
      "metadata": {
        "id": "5-kx50DY39w8"
      }
    },
    {
      "cell_type": "markdown",
      "source": [
        "### Step 1 trainings: \n",
        "### - THE course: https://www.freecodecamp.org/learn/scientific-computing-with-python/#python-for-everybody \n",
        "### - THE book: http://do1.dr-chuck.com/pythonlearn/ES_es/pythonlearn.pdf\n",
        "### - THE video Course: https://www.youtube.com/watch?v=8DvywoWv6fI\n",
        "\n",
        "### - THE warning: https://blog.segu-info.com.ar/2021/02/dependency-confusion-ataque-que-afecta.html?m=0 S\n",
        "### - Course Repo: https://github.com/axisSN01/Python-learning-path-ChatGPT\n",
        "--- \n",
        "\n"
      ],
      "metadata": {
        "id": "u4LSfArhKze1"
      }
    },
    {
      "cell_type": "markdown",
      "source": [
        "## 2nd round"
      ],
      "metadata": {
        "id": "iUy7gcVJBGjX"
      }
    },
    {
      "cell_type": "markdown",
      "source": [
        "### solve doubts, and depper analysis\n",
        " + Ok, any doubts?\n",
        " + Be carefull with libraries\n",
        " + the background tools: Git, jupyter, prompt\n",
        " + The data analysis tools: Numpy, pandas, requests\n",
        " + jump to hands-on"
      ],
      "metadata": {
        "id": "zrd6tR-pCh8z"
      }
    },
    {
      "cell_type": "markdown",
      "source": [
        "### Como maneja la memoria\n",
        "\n",
        "<img src=\"https://raw.githubusercontent.com/axisSN01/Python-learning-path-ChatGPT/main/images/7.svg.png\" width='100%' height='%100'>"
      ],
      "metadata": {
        "id": "5gKJYlM4u5D1"
      }
    },
    {
      "cell_type": "markdown",
      "source": [
        "https://pythontutor.com/python-debugger.html#mode=edit"
      ],
      "metadata": {
        "id": "rg7t5KLNvANV"
      }
    },
    {
      "cell_type": "markdown",
      "source": [
        "## 2nd round"
      ],
      "metadata": {
        "id": "cCOCiiE9tx8f"
      }
    },
    {
      "cell_type": "markdown",
      "source": [
        "+ Questions, doubts of 1st round?\n",
        "+ Ice breakers: Some writings on the fly\n",
        "+ Follow me Bynder\n",
        "+ Before write, first read."
      ],
      "metadata": {
        "id": "bSsqnwYUuite"
      }
    },
    {
      "cell_type": "markdown",
      "source": [
        "### First read then write"
      ],
      "metadata": {
        "id": "er7ZAGIyt9xU"
      }
    },
    {
      "cell_type": "markdown",
      "source": [
        "### GLOSARY: \n",
        "#### Its needed learn the correct words and the correct meaning of each of them. "
      ],
      "metadata": {
        "id": "XTeo4MFCuDS8"
      }
    },
    {
      "cell_type": "markdown",
      "source": [
        "<img src=\"https://raw.githubusercontent.com/axisSN01/Python-learning-path-ChatGPT/main/images/8.svg\" width='100%' height='%100'>"
      ],
      "metadata": {
        "id": "E0EJ1ttqyEzR"
      }
    },
    {
      "cell_type": "markdown",
      "source": [
        "<img src=\"https://raw.githubusercontent.com/axisSN01/Python-learning-path-ChatGPT/main/images/9.svg\" width='100%' height='%100'>"
      ],
      "metadata": {
        "id": "uH88ysTD2Yy9"
      }
    },
    {
      "cell_type": "markdown",
      "source": [
        "<img src=\"https://raw.githubusercontent.com/axisSN01/Python-learning-path-ChatGPT/main/images/10.svg\" width='100%' height='%100'>"
      ],
      "metadata": {
        "id": "ypW-GuUA2azF"
      }
    },
    {
      "cell_type": "markdown",
      "source": [
        "<img src=\"https://raw.githubusercontent.com/axisSN01/Python-learning-path-ChatGPT/main/images/11.svg\" width='100%' height='%100'>"
      ],
      "metadata": {
        "id": "NUU0Jip22c3v"
      }
    },
    {
      "cell_type": "markdown",
      "source": [
        "### Follow me Bynder: Wirtes on the fly\n",
        "[![Binder](https://mybinder.org/badge_logo.svg)](https://mybinder.org/v2/gh/axisSN01/Python-learning-path-ChatGPT/HEAD)"
      ],
      "metadata": {
        "id": "v882l6cXuct4"
      }
    },
    {
      "cell_type": "markdown",
      "source": [
        "### Step 2 reference: \n",
        "### - Jupyter Notebook  https://docs.jupyter.org/en/latest/\n",
        "### - pandas module https://pandas.pydata.org/docs/\n",
        "### - Google colab snippets https://colab.research.google.com/\n",
        "---"
      ],
      "metadata": {
        "id": "d4vatKBDCAqU"
      }
    },
    {
      "cell_type": "markdown",
      "source": [
        "## 3rd Round\n",
        "\n",
        "+ Questions, doubts of 1st and 2nd round?\n",
        "+ Ice breakers: Some writings on the fly: Function,  built- ins\n",
        "+ Debuging tools: pdb, https://memlayout.com/, https://pythontutor.com/\n",
        "+ Reading standard_format_script.py\n",
        "---"
      ],
      "metadata": {
        "id": "gBvcwoSJFHc1"
      }
    },
    {
      "cell_type": "markdown",
      "source": [
        "## 4th round\n",
        "+ Questions, doubts of 1 ,2, 3 round?\n",
        "+ Continue analyzing  standard_format_script.py\n",
        "+ Lets build something: [La_calculator.ipynb](https://github.com/axisSN01/Python-learning-path-ChatGPT/blob/main/La_calculator.ipynb)\n",
        "    + HOMEWORK:\n",
        "        + Avoid zero division\n",
        "        + Print date and time of the result\n",
        "        + Send an email with the results\n",
        "\n",
        "--- \n"
      ],
      "metadata": {
        "id": "gZiQcjg-FvlV"
      }
    },
    {
      "cell_type": "markdown",
      "source": [
        "## 5th round\n",
        "+ Questions, doubts?\n",
        "+ Homework review\n",
        "+ HOMEWORK review [Homework_1_La_calculator.ipynb](https://github.com/axisSN01/Python-learning-path-ChatGPT/blob/main/Homework_1_La_calculator.ipynb)\n",
        "\n",
        "+ Replication management: introducing Github\n",
        "+ Data processing: Introducing pandas for EDA & ETL"
      ],
      "metadata": {
        "id": "NJSdFoGQGZJl"
      }
    },
    {
      "cell_type": "markdown",
      "source": [
        "### Replication management: there are few types, the most common are unidirectional, bidirectional, fully manual (GIT)"
      ],
      "metadata": {
        "id": "wGGKXfh-HOy-"
      }
    },
    {
      "cell_type": "markdown",
      "source": [
        "<img src=\"https://raw.githubusercontent.com/axisSN01/Python-learning-path-ChatGPT/main/images/12.svg\" width='100%' height='%100'>"
      ],
      "metadata": {
        "id": "zQMXkHO0HIJM"
      }
    },
    {
      "cell_type": "markdown",
      "source": [
        "<img src=\"https://raw.githubusercontent.com/axisSN01/Python-learning-path-ChatGPT/main/images/13.svg\" width='100%' height='%100'>"
      ],
      "metadata": {
        "id": "1vh461SCHar0"
      }
    },
    {
      "cell_type": "markdown",
      "source": [
        "<img src=\"https://raw.githubusercontent.com/axisSN01/Python-learning-path-ChatGPT/main/images/14.svg\" width='100%' height='%100'>"
      ],
      "metadata": {
        "id": "n4R0jr3cHew0"
      }
    },
    {
      "cell_type": "markdown",
      "source": [
        "### GIT notes:\n",
        "+ Is easy to **BEGIN** by really really dificult to **MASTER**\n",
        "+ life jacket: https://ohshitgit.com/\n",
        "+ Reference: https://git-scm.com/docs\n",
        "\n"
      ],
      "metadata": {
        "id": "XiBS_aWWHj8d"
      }
    },
    {
      "cell_type": "markdown",
      "source": [
        "### PANDAS: \n",
        "It is the main Python library for all the stuff related with DATA. If we compare with Power platforms, Its easy and straigh fordware achive the following things: \n",
        "\n",
        "PowerPlaform|Python + Pandas   \n",
        "-|-|\n",
        "excel tables| Dataframes\n",
        "excel macros| Python loops + dataframes\n",
        "powerbi charts | Pandas + Plotly\n",
        "DAX | Python loops\n",
        "PowerQuery | Pandas\n",
        "Automate | Python requests\n",
        "Powerapps | Tkinter, PyQt\n",
        "\n",
        "#### Reference : https://pandas.pydata.org/"
      ],
      "metadata": {
        "id": "tk1xrH0nJsVs"
      }
    },
    {
      "cell_type": "markdown",
      "source": [
        "## 6th round\n",
        "+ Questions, doubts?\n",
        "+ GitHub in a SHOT\n",
        "+ GUI for Python scripts: \n",
        "    + Streamlit webapp \n",
        "    + Tkinter desktop app\n",
        "\n",
        "+ Data processing: Introducing pandas for EDA & ETL"
      ],
      "metadata": {
        "id": "ZehDOjv_6v5k"
      }
    },
    {
      "cell_type": "markdown",
      "source": [
        "<img src=\"https://raw.githubusercontent.com/axisSN01/Python-learning-path-ChatGPT/main/images/15.svg\" width='100%' height='%100'>"
      ],
      "metadata": {
        "id": "r7ETG1Uw7KtJ"
      }
    },
    {
      "cell_type": "markdown",
      "source": [
        "## 7th round - THE LAST ONE\n",
        "+ Questions, doubts?\n",
        "\n",
        "+ Data processing: Introducing pandas for EDA & ETL\n",
        "\n",
        "+ Self Assesment test with chatGPT:\n",
        "\n"
      ],
      "metadata": {
        "id": "Ie0Suv3iguzv"
      }
    },
    {
      "cell_type": "markdown",
      "source": [
        "### Pandas vs Powerquery and DAX\n",
        "\n",
        "+ Lets go to chatGPT page\n",
        "\n",
        "### Python in PowerBi:\n",
        "\n",
        "+ Not able to create Measures\n",
        "+ Rows limits for scripts\n",
        "+ Its allowed to call Python scripts inside a Powerquery\n",
        "+ Its allowed to call Python Scripts as a data source\n",
        "+ Its allowed to use Charts generated with Python and Matplotlib, boke, seaborn or Plotly (not 3D interactive)\n",
        "\n",
        "\n",
        "\n",
        "\n"
      ],
      "metadata": {
        "id": "SojAXOqbiNQA"
      }
    },
    {
      "cell_type": "markdown",
      "source": [
        "### self test \n",
        "\n",
        "### **prompt**\n",
        "\n",
        "---\n",
        "\n",
        "*I want you to act as a professional Ssr Python coach . So, ask me multiple choice question simulating datacamp test, related to Python and Data Analytics, then wait for my answer and after that give me your feedback about my anwer, after that you should give me another question, and so on.  After each try, give me the ratio correct answer/ total answers*\n",
        "\n",
        "---"
      ],
      "metadata": {
        "id": "bqzr2gr_iHzj"
      }
    }
  ]
}